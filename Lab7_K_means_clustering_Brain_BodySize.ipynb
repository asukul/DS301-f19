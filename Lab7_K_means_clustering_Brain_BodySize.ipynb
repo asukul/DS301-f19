{
  "nbformat": 4,
  "nbformat_minor": 0,
  "metadata": {
    "colab": {
      "name": "Lab7_K-means-clustering_Brain-BodySize.ipynb",
      "provenance": [],
      "collapsed_sections": [],
      "include_colab_link": true
    },
    "kernelspec": {
      "name": "python3",
      "display_name": "Python 3"
    }
  },
  "cells": [
    {
      "cell_type": "markdown",
      "metadata": {
        "id": "view-in-github",
        "colab_type": "text"
      },
      "source": [
        "<a href=\"https://colab.research.google.com/github/asukul/DS301-f19/blob/master/Lab7_K_means_clustering_Brain_BodySize.ipynb\" target=\"_parent\"><img src=\"https://colab.research.google.com/assets/colab-badge.svg\" alt=\"Open In Colab\"/></a>"
      ]
    },
    {
      "cell_type": "markdown",
      "metadata": {
        "id": "WdeCDHbVgGP1",
        "colab_type": "text"
      },
      "source": [
        "https://jakevdp.github.io/PythonDataScienceHandbook/05.11-k-means.html"
      ]
    },
    {
      "cell_type": "markdown",
      "metadata": {
        "id": "FQPIHLgjgKE7",
        "colab_type": "text"
      },
      "source": [
        "In the previous few sections, we have explored one category of unsupervised machine learning models: dimensionality reduction. Here we will move on to another class of unsupervised machine learning models: clustering algorithms. Clustering algorithms seek to learn, from the properties of the data, an optimal division or discrete labeling of groups of points.\n",
        "\n",
        "Many clustering algorithms are available in Scikit-Learn and elsewhere, but perhaps the simplest to understand is an algorithm known as k-means clustering, which is implemented in sklearn.cluster.KMeans.\n",
        "\n",
        "We begin with the standard imports:"
      ]
    },
    {
      "cell_type": "code",
      "metadata": {
        "id": "UoJ7YgDtgE0V",
        "colab_type": "code",
        "colab": {}
      },
      "source": [
        "%matplotlib inline\n",
        "import matplotlib.pyplot as plt\n",
        "import seaborn as sns; sns.set()  # for plot styling\n",
        "import numpy as np"
      ],
      "execution_count": 0,
      "outputs": []
    },
    {
      "cell_type": "markdown",
      "metadata": {
        "id": "MxParEukgOL7",
        "colab_type": "text"
      },
      "source": [
        "Introducing k-Means\n",
        "The k-means algorithm searches for a pre-determined number of clusters within an unlabeled multidimensional dataset. It accomplishes this using a simple conception of what the optimal clustering looks like:\n",
        "\n",
        "The \"cluster center\" is the arithmetic mean of all the points belonging to the cluster.\n",
        "Each point is closer to its own cluster center than to other cluster centers.\n",
        "Those two assumptions are the basis of the k-means model. We will soon dive into exactly how the algorithm reaches this solution, but for now let's take a look at a simple dataset and see the k-means result.\n",
        "\n",
        "First, let's generate a two-dimensional dataset containing four distinct blobs. To emphasize that this is an unsupervised algorithm, we will leave the labels out of the visualization"
      ]
    },
    {
      "cell_type": "code",
      "metadata": {
        "id": "8yMEmvORhJQq",
        "colab_type": "code",
        "outputId": "62931729-875d-4533-a18e-0eefb8e66f25",
        "colab": {
          "base_uri": "https://localhost:8080/",
          "height": 34
        }
      },
      "source": [
        "random_num = np.random.randint(3,9)\n",
        "print(random_num)"
      ],
      "execution_count": 46,
      "outputs": [
        {
          "output_type": "stream",
          "text": [
            "4\n"
          ],
          "name": "stdout"
        }
      ]
    },
    {
      "cell_type": "code",
      "metadata": {
        "id": "_NlIUGgNgNJq",
        "colab_type": "code",
        "outputId": "2687f445-0b55-48c8-fa16-f1ed2219156c",
        "colab": {
          "base_uri": "https://localhost:8080/",
          "height": 268
        }
      },
      "source": [
        "from sklearn.datasets.samples_generator import make_blobs\n",
        "X, y_true = make_blobs(n_samples=300, centers=random_num,\n",
        "                       cluster_std=0.60, random_state=0)\n",
        "plt.scatter(X[:, 0], X[:, 1], s=50);"
      ],
      "execution_count": 47,
      "outputs": [
        {
          "output_type": "display_data",
          "data": {
            "image/png": "[encoded data removed]",
            "text/plain": [
              "<Figure size 432x288 with 1 Axes>"
            ]
          },
          "metadata": {
            "tags": []
          }
        }
      ]
    },
    {
      "cell_type": "markdown",
      "metadata": {
        "id": "xDODT4HjgtjL",
        "colab_type": "text"
      },
      "source": [
        "By eye, it is relatively easy to pick out the four clusters. The k-means algorithm does this automatically, and in Scikit-Learn uses the typical estimator API:"
      ]
    },
    {
      "cell_type": "code",
      "metadata": {
        "id": "Fo8YuqUmgQlb",
        "colab_type": "code",
        "colab": {}
      },
      "source": [
        "from sklearn.cluster import KMeans\n",
        "kmeans = KMeans(n_clusters=7)\n",
        "kmeans.fit(X)\n",
        "y_kmeans = kmeans.predict(X)"
      ],
      "execution_count": 0,
      "outputs": []
    },
    {
      "cell_type": "code",
      "metadata": {
        "id": "7BwAoT_czmLZ",
        "colab_type": "code",
        "outputId": "0acc9b9d-d732-49fe-d3a2-46d6322e6c81",
        "colab": {
          "base_uri": "https://localhost:8080/",
          "height": 1000
        }
      },
      "source": [
        "X"
      ],
      "execution_count": 49,
      "outputs": [
        {
          "output_type": "execute_result",
          "data": {
            "text/plain": [
              "array([[ 8.36856841e-01,  2.13635938e+00],\n",
              "       [-1.41365810e+00,  7.40962324e+00],\n",
              "       [ 1.15521298e+00,  5.09961887e+00],\n",
              "       [-1.01861632e+00,  7.81491465e+00],\n",
              "       [ 1.27135141e+00,  1.89254207e+00],\n",
              "       [ 3.43761754e+00,  2.61654166e-01],\n",
              "       [-1.80822253e+00,  1.59701749e+00],\n",
              "       [ 1.41372442e+00,  4.38117707e+00],\n",
              "       [-2.04932168e-01,  8.43209665e+00],\n",
              "       [-7.11099611e-01,  8.66043846e+00],\n",
              "       [-1.71237268e+00,  2.77780226e+00],\n",
              "       [-2.67000792e+00,  8.35389140e+00],\n",
              "       [ 1.24258802e+00,  4.50399192e+00],\n",
              "       [-2.22783649e+00,  6.89479938e+00],\n",
              "       [ 1.45513831e+00, -2.91989981e-02],\n",
              "       [ 4.53791789e-01,  3.95647753e+00],\n",
              "       [ 1.06923853e+00,  4.53068484e+00],\n",
              "       [ 2.56936589e+00,  5.07048304e-01],\n",
              "       [-1.06690610e+00,  3.13165795e+00],\n",
              "       [-1.07859101e+00,  2.20451529e+00],\n",
              "       [ 2.71506328e+00,  1.29082190e+00],\n",
              "       [ 1.77710994e+00,  1.18655254e+00],\n",
              "       [ 7.34363910e-01,  5.03725437e+00],\n",
              "       [-1.99648151e+00,  2.85164868e+00],\n",
              "       [-1.91828017e+00,  2.60516867e+00],\n",
              "       [-5.55523811e-01,  4.69595848e+00],\n",
              "       [ 1.69747910e+00,  8.66123282e-01],\n",
              "       [ 5.94762432e-01,  4.70964730e+00],\n",
              "       [-2.88024255e+00,  2.30437816e+00],\n",
              "       [ 1.86725632e-01,  4.02683656e+00],\n",
              "       [-5.13333436e-01,  7.87437368e+00],\n",
              "       [-2.05701103e+00,  7.37851598e+00],\n",
              "       [ 1.87271752e+00,  4.18069237e+00],\n",
              "       [-1.13121396e+00,  6.76652230e+00],\n",
              "       [-1.64428957e+00,  7.94095139e+00],\n",
              "       [-2.41933824e+00,  7.43952498e+00],\n",
              "       [-2.01606928e+00,  7.48420129e+00],\n",
              "       [-2.62142780e+00,  7.98635066e+00],\n",
              "       [-2.20299950e+00,  2.47947561e+00],\n",
              "       [ 1.66382237e+00,  6.63091635e-01],\n",
              "       [ 6.69786996e-01,  3.59540802e+00],\n",
              "       [-1.98539037e+00,  2.05520738e+00],\n",
              "       [-4.74920358e-02,  5.47425256e+00],\n",
              "       [ 1.54462126e+00,  4.21078127e+00],\n",
              "       [-1.70200643e+00,  2.46098693e+00],\n",
              "       [-1.02192525e+00,  2.76820711e+00],\n",
              "       [-1.37842552e+00,  8.10269597e+00],\n",
              "       [-1.55220688e+00,  2.74574995e+00],\n",
              "       [-1.47904303e+00,  7.56915836e+00],\n",
              "       [ 1.98894313e+00,  1.50976729e+00],\n",
              "       [-1.94972418e+00,  3.48383870e+00],\n",
              "       [ 2.45509737e+00,  6.21231788e-01],\n",
              "       [-8.94327882e-01,  7.61714473e+00],\n",
              "       [ 1.69687788e+00,  7.54910622e-01],\n",
              "       [ 1.75644805e+00,  2.05538289e+00],\n",
              "       [-1.11064012e+00,  2.82213820e+00],\n",
              "       [-4.15017659e-02,  7.80870276e+00],\n",
              "       [-1.14091533e+00,  1.97550822e+00],\n",
              "       [-1.80634968e+00,  7.72830656e+00],\n",
              "       [ 1.39263752e+00,  9.28962707e-01],\n",
              "       [-2.25698670e+00,  7.30207720e+00],\n",
              "       [ 5.71670482e-01,  4.32288566e+00],\n",
              "       [-1.54994580e+00,  9.28293222e+00],\n",
              "       [-1.03819212e+00,  2.95323761e+00],\n",
              "       [-2.10956676e+00,  3.10677258e+00],\n",
              "       [-1.18652985e+00,  2.78427720e+00],\n",
              "       [-2.45809975e+00,  7.51178724e+00],\n",
              "       [ 2.36960214e+00,  9.50716912e-01],\n",
              "       [-2.66676007e+00,  7.84766052e+00],\n",
              "       [-1.49720702e+00,  3.21418433e+00],\n",
              "       [ 1.32222457e+00,  4.17880807e+00],\n",
              "       [-4.87271301e-01,  3.32858293e+00],\n",
              "       [-1.03718771e+00,  8.06300134e+00],\n",
              "       [-1.60496819e+00,  2.97425420e+00],\n",
              "       [-1.50372568e+00,  1.92385320e+00],\n",
              "       [-7.85412206e-01,  8.45312331e+00],\n",
              "       [-1.75783190e+00,  2.97449321e+00],\n",
              "       [ 1.19008992e+00,  4.72773123e+00],\n",
              "       [ 2.14043942e+00,  7.06066610e-01],\n",
              "       [-1.03540116e+00,  8.20559195e+00],\n",
              "       [ 1.25471244e+00,  8.96331565e-02],\n",
              "       [ 5.95676822e-01,  4.08614263e+00],\n",
              "       [ 1.27955338e+00,  1.05789418e+00],\n",
              "       [ 1.72955064e+00,  1.14729369e+00],\n",
              "       [-9.49041610e-01,  8.46424331e+00],\n",
              "       [ 9.35325115e-01,  5.33179296e+00],\n",
              "       [ 2.36923352e+00,  7.94735861e-01],\n",
              "       [ 4.28576743e-01,  4.97399710e+00],\n",
              "       [-2.04758277e+00,  6.65428520e+00],\n",
              "       [-1.45672617e+00,  7.48669893e+00],\n",
              "       [ 5.29417185e-01,  3.80792420e+00],\n",
              "       [ 1.78194802e+00,  9.08151155e-01],\n",
              "       [-1.95575053e+00,  8.61631686e+00],\n",
              "       [-1.74572014e+00,  3.01190457e+00],\n",
              "       [-1.17979111e+00,  3.12767494e+00],\n",
              "       [ 1.16411070e+00,  3.79132988e+00],\n",
              "       [ 1.36155806e+00,  1.36638252e+00],\n",
              "       [ 2.60137487e+00,  1.08799459e+00],\n",
              "       [ 2.72396035e-01,  5.46996004e+00],\n",
              "       [-3.12240736e+00,  3.28167398e+00],\n",
              "       [-5.88085172e-01,  8.61427320e+00],\n",
              "       [ 1.66909648e+00, -4.36378231e-01],\n",
              "       [-6.82774903e-01,  7.67490317e+00],\n",
              "       [ 2.36790645e+00,  5.52190878e-01],\n",
              "       [ 1.05241733e+00,  4.54498095e+00],\n",
              "       [ 2.22707373e+00,  1.26296996e+00],\n",
              "       [ 2.43934644e+00, -7.25099666e-02],\n",
              "       [ 1.34471770e+00,  4.85711133e+00],\n",
              "       [-1.31454942e+00,  6.83904013e+00],\n",
              "       [ 9.82570091e-01,  5.37530962e+00],\n",
              "       [-1.06295223e+00,  2.20755388e+00],\n",
              "       [-1.60712495e+00,  3.56452854e+00],\n",
              "       [ 1.57322172e+00,  4.83933793e-01],\n",
              "       [-2.17851338e+00,  8.08585131e+00],\n",
              "       [ 1.83375842e+00,  7.54036153e-01],\n",
              "       [ 2.10616050e+00,  3.49513189e+00],\n",
              "       [-1.64338755e+00,  7.52691964e+00],\n",
              "       [ 1.10550448e+00,  1.26389129e+00],\n",
              "       [ 1.61152972e+00,  1.82347242e+00],\n",
              "       [ 4.59534668e-01,  5.44982630e+00],\n",
              "       [-5.38023054e-01,  3.01641891e+00],\n",
              "       [ 1.67841499e+00,  6.09047389e-01],\n",
              "       [-1.01214966e+00,  3.60254338e+00],\n",
              "       [ 1.34195197e+00,  5.93573847e-01],\n",
              "       [ 1.42811550e+00,  1.62435083e+00],\n",
              "       [ 2.04505527e+00,  1.12515470e+00],\n",
              "       [ 1.67280531e+00,  6.59300571e-01],\n",
              "       [-1.35863899e+00,  2.32200809e+00],\n",
              "       [ 1.13078931e+00,  9.35620856e-01],\n",
              "       [-1.73896306e+00,  1.94799775e+00],\n",
              "       [-3.40258925e-01,  8.16733925e+00],\n",
              "       [-1.63793622e+00,  2.43329317e+00],\n",
              "       [-1.68754414e+00,  2.24107546e+00],\n",
              "       [ 2.43040639e+00, -6.35709334e-02],\n",
              "       [-1.37998039e+00,  7.18503804e+00],\n",
              "       [-1.25245465e+00,  2.33911505e+00],\n",
              "       [-2.39482483e+00,  3.39806103e+00],\n",
              "       [-2.09183352e+00,  7.48142543e+00],\n",
              "       [ 4.88382309e-01,  3.26801777e+00],\n",
              "       [-5.39428614e-01,  7.45631776e+00],\n",
              "       [-2.59201821e+00,  8.07635945e+00],\n",
              "       [-1.04656513e+00,  2.96483837e+00],\n",
              "       [ 1.25566754e+00,  3.38204112e+00],\n",
              "       [-1.62150422e+00,  4.27191636e+00],\n",
              "       [ 1.86922139e+00,  5.44132083e+00],\n",
              "       [-1.76404140e+00,  2.22222995e+00],\n",
              "       [-1.38181918e+00,  7.28761248e+00],\n",
              "       [ 7.93137001e-03,  4.17614316e+00],\n",
              "       [-1.10298500e+00,  7.30222786e+00],\n",
              "       [-1.79351372e+00,  7.58086944e+00],\n",
              "       [-1.51176949e+00,  7.94426307e+00],\n",
              "       [ 9.59360742e-01,  4.56078645e+00],\n",
              "       [-6.01337393e-01,  6.29994922e+00],\n",
              "       [ 2.24592863e-01,  4.77028154e+00],\n",
              "       [ 1.56724897e+00,  1.78090633e-02],\n",
              "       [-1.03395259e+00,  2.92105785e+00],\n",
              "       [-9.22268640e-01,  8.09888579e+00],\n",
              "       [-1.88609638e+00,  2.24834407e+00],\n",
              "       [ 1.86873582e+00,  9.56103760e-01],\n",
              "       [ 1.10123507e+00,  4.88977075e+00],\n",
              "       [-1.93213725e+00,  8.30643453e+00],\n",
              "       [ 6.70478769e-01,  4.04094275e+00],\n",
              "       [ 7.43873988e-01,  4.12240568e+00],\n",
              "       [ 1.64003761e+00,  1.81948989e+00],\n",
              "       [ 8.15468056e-01,  4.78526116e+00],\n",
              "       [-2.63274574e+00,  2.63109786e+00],\n",
              "       [-9.61076361e-01,  1.27407596e+00],\n",
              "       [ 2.13979079e-01,  4.88542535e+00],\n",
              "       [ 1.43472182e+00,  1.30662037e+00],\n",
              "       [ 1.21387411e+00,  3.64795042e+00],\n",
              "       [ 1.08272576e+00,  4.06271877e+00],\n",
              "       [-1.22605234e+00,  8.29620146e+00],\n",
              "       [ 1.48170052e+00,  6.90074595e-01],\n",
              "       [ 1.89593761e+00,  5.18540259e+00],\n",
              "       [-1.32356154e+00,  4.13050840e+00],\n",
              "       [-1.14989863e+00,  7.89325283e+00],\n",
              "       [ 2.46915842e+00,  1.67877140e+00],\n",
              "       [ 2.31102276e+00,  1.30380848e+00],\n",
              "       [ 5.72793810e-01,  4.08805543e+00],\n",
              "       [-9.67794989e-01,  3.12186125e+00],\n",
              "       [ 2.62492001e+00,  9.50194405e-01],\n",
              "       [ 1.68353782e+00,  4.19583243e+00],\n",
              "       [-2.22131717e+00,  2.73050691e+00],\n",
              "       [-1.57846247e+00,  3.03445802e+00],\n",
              "       [ 8.15155229e-02,  4.56742235e+00],\n",
              "       [ 1.43289271e+00,  4.37679234e+00],\n",
              "       [ 1.06269622e+00,  5.17635143e+00],\n",
              "       [ 7.67522789e-01,  4.39759671e+00],\n",
              "       [ 2.47019077e+00,  1.31451315e+00],\n",
              "       [-1.73163168e+00,  7.16447286e+00],\n",
              "       [ 3.47138300e-01,  3.45177657e+00],\n",
              "       [-1.00140436e+00,  2.84881778e+00],\n",
              "       [ 1.01618041e+00,  4.48527047e+00],\n",
              "       [ 5.59529363e-01,  4.21400660e+00],\n",
              "       [-2.11821046e+00,  2.03478126e+00],\n",
              "       [-1.36219420e+00,  2.38333321e+00],\n",
              "       [-2.78366586e+00,  2.99211541e+00],\n",
              "       [ 1.65225163e+00,  3.65582842e+00],\n",
              "       [-1.93960658e+00,  2.18943582e+00],\n",
              "       [-1.81487687e+00,  7.97832190e+00],\n",
              "       [ 1.20212540e+00,  3.64414685e+00],\n",
              "       [-9.69200946e-01,  3.26721702e+00],\n",
              "       [ 1.86985974e+00, -1.07938624e-01],\n",
              "       [-1.80701134e+00,  2.06773859e+00],\n",
              "       [ 1.21767506e+00,  3.89290127e+00],\n",
              "       [-1.48368917e+00,  6.00777418e+00],\n",
              "       [-1.56387985e+00,  2.85349910e+00],\n",
              "       [-6.86210297e-01,  8.68285664e+00],\n",
              "       [ 1.07627418e+00,  4.68480619e+00],\n",
              "       [-9.75986627e-01,  6.73761577e+00],\n",
              "       [ 1.37964693e+00,  4.54826443e+00],\n",
              "       [-1.64129611e+00,  2.68097255e+00],\n",
              "       [-1.84892963e-03,  4.58145668e+00],\n",
              "       [ 1.71444449e+00,  5.02521524e+00],\n",
              "       [-1.40524304e+00,  7.72611315e+00],\n",
              "       [-7.08184904e-01,  2.50421275e+00],\n",
              "       [-8.85798374e-01,  2.64585078e+00],\n",
              "       [ 1.98436909e+00,  4.89556738e-01],\n",
              "       [ 2.95195825e+00, -3.44327355e-01],\n",
              "       [ 4.31891060e-01,  4.33495456e+00],\n",
              "       [-1.86621694e+00,  7.62549400e+00],\n",
              "       [ 2.52706430e+00,  6.17812202e-01],\n",
              "       [ 2.04067185e+00,  4.54845114e-01],\n",
              "       [-2.58043836e+00,  3.18844294e+00],\n",
              "       [ 1.61990909e+00,  6.76452867e-02],\n",
              "       [-2.58802708e+00,  3.13117134e+00],\n",
              "       [ 4.43598630e-01,  3.11530945e+00],\n",
              "       [-4.56773649e-01,  7.30600872e+00],\n",
              "       [-1.12867566e+00,  7.80509789e+00],\n",
              "       [ 2.13003529e+00,  5.19209620e+00],\n",
              "       [ 1.00372519e+00,  4.19147702e+00],\n",
              "       [-1.39346767e+00,  8.74641672e+00],\n",
              "       [ 7.28098690e-01,  3.85531444e+00],\n",
              "       [ 8.93499638e-01,  1.01093082e+00],\n",
              "       [-1.10782972e+00,  2.92014479e+00],\n",
              "       [ 7.89338559e-01,  4.33748653e+00],\n",
              "       [ 1.97553917e+00,  7.18989132e-01],\n",
              "       [-1.24902582e+00,  3.08533972e+00],\n",
              "       [-1.07768797e+00,  8.88106128e+00],\n",
              "       [-1.86849125e+00,  3.07982487e+00],\n",
              "       [ 2.76808540e+00,  1.08782923e+00],\n",
              "       [ 2.77180174e-01,  4.84428322e+00],\n",
              "       [ 3.41085289e+00,  8.72309369e-01],\n",
              "       [-1.58084155e+00,  7.55307742e+00],\n",
              "       [-1.53027550e+00,  7.70542113e+00],\n",
              "       [-1.82455840e+00,  7.35958960e+00],\n",
              "       [-1.68568257e+00,  7.95339446e+00],\n",
              "       [-1.65104622e+00,  3.44598961e+00],\n",
              "       [-1.30440901e+00,  3.00311934e+00],\n",
              "       [-7.30698168e-01,  6.24208856e+00],\n",
              "       [ 2.40615694e+00,  4.87047502e+00],\n",
              "       [-1.53631328e+00,  3.01443916e+00],\n",
              "       [ 1.48859977e+00,  6.51633844e-01],\n",
              "       [ 5.14320434e-01,  4.62733684e+00],\n",
              "       [-1.81469750e+00,  3.29009724e+00],\n",
              "       [-1.93731055e+00,  3.91361274e+00],\n",
              "       [-6.14907097e-01,  3.94963585e+00],\n",
              "       [ 2.03169783e+00,  1.96807561e-01],\n",
              "       [ 2.14917144e+00,  1.03697228e+00],\n",
              "       [-1.36999388e+00,  7.76953035e+00],\n",
              "       [ 9.14338767e-01,  4.55014643e+00],\n",
              "       [ 3.33818506e-01,  4.93645836e+00],\n",
              "       [-2.15968109e+00,  3.41003096e+00],\n",
              "       [ 1.36678633e+00,  6.34971633e-01],\n",
              "       [-5.71099336e-01,  8.13306058e+00],\n",
              "       [-1.00552592e+00,  3.08400540e+00],\n",
              "       [ 1.49493180e+00,  3.85848832e+00],\n",
              "       [-5.90447667e-01,  7.69493053e+00],\n",
              "       [ 7.15177948e-01,  5.41334556e+00],\n",
              "       [ 2.11390250e+00,  1.24743587e+00],\n",
              "       [ 1.20083098e+00,  6.01671730e-01],\n",
              "       [-2.54576750e+00,  3.15025055e+00],\n",
              "       [-1.95866665e+00,  2.43008647e+00],\n",
              "       [ 2.33812285e+00,  3.43116792e+00],\n",
              "       [ 3.35320909e+00,  1.69958043e+00],\n",
              "       [ 1.84287117e+00,  7.26928839e-02],\n",
              "       [ 1.32000621e+00,  1.40428145e+00],\n",
              "       [ 2.09680545e+00,  4.84741412e+00],\n",
              "       [-1.24307904e+00,  8.15166254e+00],\n",
              "       [-1.85908090e+00,  7.78874716e+00],\n",
              "       [ 2.74666646e+00,  1.54543482e+00],\n",
              "       [ 2.60778282e+00,  1.08890025e+00],\n",
              "       [ 1.65991049e+00,  3.56289184e+00],\n",
              "       [ 2.35151259e+00,  8.28001297e-01],\n",
              "       [ 2.22322228e+00,  8.38773426e-01],\n",
              "       [ 3.22881491e+00,  1.13171965e+00],\n",
              "       [-1.55876720e+00,  7.24816210e+00],\n",
              "       [-6.46956784e-01,  3.42941343e+00],\n",
              "       [-1.32688818e+00,  8.51530794e+00],\n",
              "       [ 9.17198564e-01,  3.90570036e+00],\n",
              "       [ 2.29469533e+00, -7.65891994e-01],\n",
              "       [ 1.81559810e+00,  1.11969719e+00],\n",
              "       [-1.12016775e+00,  7.11031582e+00],\n",
              "       [-1.65507124e+00,  8.61416749e+00],\n",
              "       [-1.27567815e+00,  7.96776461e+00],\n",
              "       [ 1.97369770e+00,  1.57979848e+00],\n",
              "       [ 2.51834185e+00,  1.39176615e+00],\n",
              "       [ 4.38990142e-01,  4.53592883e+00],\n",
              "       [ 3.69478657e-01,  7.79110522e+00],\n",
              "       [-1.79145759e+00,  2.74966896e+00]])"
            ]
          },
          "metadata": {
            "tags": []
          },
          "execution_count": 49
        }
      ]
    },
    {
      "cell_type": "markdown",
      "metadata": {
        "id": "JG5O59KrgzrB",
        "colab_type": "text"
      },
      "source": [
        "Let's visualize the results by plotting the data colored by these labels. We will also plot the cluster centers as determined by the k-means estimator:"
      ]
    },
    {
      "cell_type": "code",
      "metadata": {
        "id": "5IwJVPjOg0Vo",
        "colab_type": "code",
        "outputId": "f80e1e56-809d-40b7-f87d-ff674f97b7c2",
        "colab": {
          "base_uri": "https://localhost:8080/",
          "height": 268
        }
      },
      "source": [
        "plt.scatter(X[:, 0], X[:, 1], c=y_kmeans, s=50, cmap='viridis')\n",
        "\n",
        "centers = kmeans.cluster_centers_\n",
        "plt.scatter(centers[:, 0], centers[:, 1], c='black', s=200, alpha=0.5);"
      ],
      "execution_count": 50,
      "outputs": [
        {
          "output_type": "display_data",
          "data": {
            "image/png": "[encoded data removed]",
            "text/plain": [
              "<Figure size 432x288 with 1 Axes>"
            ]
          },
          "metadata": {
            "tags": []
          }
        }
      ]
    },
    {
      "cell_type": "markdown",
      "metadata": {
        "id": "_9aYHzcwvuv9",
        "colab_type": "text"
      },
      "source": [
        "Choosing the best value for the number of clusters by using the silhouette\n",
        "score, which is the mean silhouette coefficient over all the instances.\n",
        "\n",
        "To compute the silhouette score, you can use Scikit-Learn’s silhou\n",
        "ette_score() function, giving it all the instances in the dataset, and the labels they were assigned:"
      ]
    },
    {
      "cell_type": "code",
      "metadata": {
        "id": "GG8uFsE-g39p",
        "colab_type": "code",
        "outputId": "39f8d596-c10a-4c96-ec9c-18ef41ef7153",
        "colab": {
          "base_uri": "https://localhost:8080/",
          "height": 34
        }
      },
      "source": [
        "from sklearn.metrics import silhouette_score\n",
        "silhouette_score(X, kmeans.labels_)"
      ],
      "execution_count": 51,
      "outputs": [
        {
          "output_type": "execute_result",
          "data": {
            "text/plain": [
              "0.40452534717997335"
            ]
          },
          "metadata": {
            "tags": []
          },
          "execution_count": 51
        }
      ]
    },
    {
      "cell_type": "code",
      "metadata": {
        "id": "sxoiz4KNC4K9",
        "colab_type": "code",
        "colab": {}
      },
      "source": [
        "score_list_i=[]\n",
        "score_list_value=[]\n",
        "\n",
        "for i in range(2,20):\n",
        "  kmeans = KMeans(n_clusters=i)\n",
        "  kmeans.fit(X)\n",
        "  y_kmeans = kmeans.predict(X)\n",
        "  score_list_i.append(i)\n",
        "  score_list_value.append(silhouette_score(X, kmeans.labels_))"
      ],
      "execution_count": 0,
      "outputs": []
    },
    {
      "cell_type": "code",
      "metadata": {
        "id": "6Sik_bNgDUtT",
        "colab_type": "code",
        "outputId": "4f31f425-7e29-4f16-9fc1-cccd73676800",
        "colab": {
          "base_uri": "https://localhost:8080/",
          "height": 34
        }
      },
      "source": [
        "score_list_i"
      ],
      "execution_count": 53,
      "outputs": [
        {
          "output_type": "execute_result",
          "data": {
            "text/plain": [
              "[2, 3, 4, 5, 6, 7, 8, 9, 10, 11, 12, 13, 14, 15, 16, 17, 18, 19]"
            ]
          },
          "metadata": {
            "tags": []
          },
          "execution_count": 53
        }
      ]
    },
    {
      "cell_type": "code",
      "metadata": {
        "id": "U3HFdhEbEMGi",
        "colab_type": "code",
        "outputId": "a54f3c06-1eeb-4008-ec3c-646ba07533f3",
        "colab": {
          "base_uri": "https://localhost:8080/",
          "height": 323
        }
      },
      "source": [
        "score_list_value"
      ],
      "execution_count": 54,
      "outputs": [
        {
          "output_type": "execute_result",
          "data": {
            "text/plain": [
              "[0.5426422297358302,\n",
              " 0.5890390393551768,\n",
              " 0.6819938690643478,\n",
              " 0.5923875148758644,\n",
              " 0.49942161501832044,\n",
              " 0.4233969317819602,\n",
              " 0.32202225147557934,\n",
              " 0.3232073180566132,\n",
              " 0.3468494264499675,\n",
              " 0.3383119785827894,\n",
              " 0.35594271784854226,\n",
              " 0.3567261408509211,\n",
              " 0.35377984120202977,\n",
              " 0.3603366670551953,\n",
              " 0.3629184387418856,\n",
              " 0.35981697823174613,\n",
              " 0.3578078141100076,\n",
              " 0.36104724818730083]"
            ]
          },
          "metadata": {
            "tags": []
          },
          "execution_count": 54
        }
      ]
    },
    {
      "cell_type": "code",
      "metadata": {
        "id": "JY73rjq2DY6A",
        "colab_type": "code",
        "outputId": "2631be4f-9b0f-4a56-acc8-a78c9c281d4f",
        "colab": {
          "base_uri": "https://localhost:8080/",
          "height": 302
        }
      },
      "source": [
        "plt.plot(score_list_i,score_list_value)\n",
        "plt.xlabel(\"n_clusters\")\n",
        "plt.ylabel(\"silhouette score\")"
      ],
      "execution_count": 55,
      "outputs": [
        {
          "output_type": "execute_result",
          "data": {
            "text/plain": [
              "Text(0, 0.5, 'silhouette score')"
            ]
          },
          "metadata": {
            "tags": []
          },
          "execution_count": 55
        },
        {
          "output_type": "display_data",
          "data": {
            "image/png": "[encoded data removed]",
            "text/plain": [
              "<Figure size 432x288 with 1 Axes>"
            ]
          },
          "metadata": {
            "tags": []
          }
        }
      ]
    },
    {
      "cell_type": "code",
      "metadata": {
        "id": "qPIOVRnwELBB",
        "colab_type": "code",
        "colab": {}
      },
      "source": [
        ""
      ],
      "execution_count": 0,
      "outputs": []
    },
    {
      "cell_type": "markdown",
      "metadata": {
        "id": "J7U_pTiLwBE7",
        "colab_type": "text"
      },
      "source": [
        "\n",
        "\n",
        "```\n",
        "# This is formatted as code\n",
        "```\n",
        "\n"
      ]
    },
    {
      "cell_type": "markdown",
      "metadata": {
        "id": "ow7ih-1BwBJa",
        "colab_type": "text"
      },
      "source": [
        ""
      ]
    },
    {
      "cell_type": "markdown",
      "metadata": {
        "id": "9zjo3Q9WhzKy",
        "colab_type": "text"
      },
      "source": [
        "##Your turn\n",
        "use this dataset\n",
        "https://raw.githubusercontent.com/asukul/DS301-f19/master/datasets/Brain-BodySize/brain-bodysize.csv"
      ]
    },
    {
      "cell_type": "markdown",
      "metadata": {
        "id": "MrVOGdcXhzTn",
        "colab_type": "text"
      },
      "source": [
        ""
      ]
    },
    {
      "cell_type": "code",
      "metadata": {
        "id": "RILNMYuJiDke",
        "colab_type": "code",
        "colab": {}
      },
      "source": [
        "import pandas as pd\n",
        "%matplotlib inline\n",
        "import matplotlib.pyplot as plt\n",
        "import seaborn as sns; sns.set()  # for plot styling\n",
        "import numpy as np"
      ],
      "execution_count": 0,
      "outputs": []
    },
    {
      "cell_type": "code",
      "metadata": {
        "id": "JLQTs1bsiNm2",
        "colab_type": "code",
        "colab": {}
      },
      "source": [
        "df = pd.read_csv(\"https://raw.githubusercontent.com/asukul/DS301-f19/master/datasets/Brain-BodySize/brain-bodysize.csv\")"
      ],
      "execution_count": 0,
      "outputs": []
    },
    {
      "cell_type": "code",
      "metadata": {
        "id": "S6jQosDRiRyV",
        "colab_type": "code",
        "outputId": "e9912821-4efc-459b-c58e-2d7aad0f640e",
        "colab": {
          "base_uri": "https://localhost:8080/",
          "height": 1000
        }
      },
      "source": [
        "df"
      ],
      "execution_count": 58,
      "outputs": [
        {
          "output_type": "execute_result",
          "data": {
            "text/html": [
              "<div>\n",
              "<style scoped>\n",
              "    .dataframe tbody tr th:only-of-type {\n",
              "        vertical-align: middle;\n",
              "    }\n",
              "\n",
              "    .dataframe tbody tr th {\n",
              "        vertical-align: top;\n",
              "    }\n",
              "\n",
              "    .dataframe thead th {\n",
              "        text-align: right;\n",
              "    }\n",
              "</style>\n",
              "<table border=\"1\" class=\"dataframe\">\n",
              "  <thead>\n",
              "    <tr style=\"text-align: right;\">\n",
              "      <th></th>\n",
              "      <th>Brain</th>\n",
              "      <th>Body</th>\n",
              "    </tr>\n",
              "  </thead>\n",
              "  <tbody>\n",
              "    <tr>\n",
              "      <th>0</th>\n",
              "      <td>3.385</td>\n",
              "      <td>44.50</td>\n",
              "    </tr>\n",
              "    <tr>\n",
              "      <th>1</th>\n",
              "      <td>0.480</td>\n",
              "      <td>15.50</td>\n",
              "    </tr>\n",
              "    <tr>\n",
              "      <th>2</th>\n",
              "      <td>1.350</td>\n",
              "      <td>8.10</td>\n",
              "    </tr>\n",
              "    <tr>\n",
              "      <th>3</th>\n",
              "      <td>465.000</td>\n",
              "      <td>423.00</td>\n",
              "    </tr>\n",
              "    <tr>\n",
              "      <th>4</th>\n",
              "      <td>36.330</td>\n",
              "      <td>119.50</td>\n",
              "    </tr>\n",
              "    <tr>\n",
              "      <th>5</th>\n",
              "      <td>27.660</td>\n",
              "      <td>115.00</td>\n",
              "    </tr>\n",
              "    <tr>\n",
              "      <th>6</th>\n",
              "      <td>14.830</td>\n",
              "      <td>98.20</td>\n",
              "    </tr>\n",
              "    <tr>\n",
              "      <th>7</th>\n",
              "      <td>1.040</td>\n",
              "      <td>5.50</td>\n",
              "    </tr>\n",
              "    <tr>\n",
              "      <th>8</th>\n",
              "      <td>4.190</td>\n",
              "      <td>58.00</td>\n",
              "    </tr>\n",
              "    <tr>\n",
              "      <th>9</th>\n",
              "      <td>0.425</td>\n",
              "      <td>6.40</td>\n",
              "    </tr>\n",
              "    <tr>\n",
              "      <th>10</th>\n",
              "      <td>0.101</td>\n",
              "      <td>4.00</td>\n",
              "    </tr>\n",
              "    <tr>\n",
              "      <th>11</th>\n",
              "      <td>0.920</td>\n",
              "      <td>5.70</td>\n",
              "    </tr>\n",
              "    <tr>\n",
              "      <th>12</th>\n",
              "      <td>1.000</td>\n",
              "      <td>6.60</td>\n",
              "    </tr>\n",
              "    <tr>\n",
              "      <th>13</th>\n",
              "      <td>0.005</td>\n",
              "      <td>0.14</td>\n",
              "    </tr>\n",
              "    <tr>\n",
              "      <th>14</th>\n",
              "      <td>0.060</td>\n",
              "      <td>1.00</td>\n",
              "    </tr>\n",
              "    <tr>\n",
              "      <th>15</th>\n",
              "      <td>3.500</td>\n",
              "      <td>10.80</td>\n",
              "    </tr>\n",
              "    <tr>\n",
              "      <th>16</th>\n",
              "      <td>2.000</td>\n",
              "      <td>12.30</td>\n",
              "    </tr>\n",
              "    <tr>\n",
              "      <th>17</th>\n",
              "      <td>1.700</td>\n",
              "      <td>6.30</td>\n",
              "    </tr>\n",
              "    <tr>\n",
              "      <th>18</th>\n",
              "      <td>0.023</td>\n",
              "      <td>0.30</td>\n",
              "    </tr>\n",
              "    <tr>\n",
              "      <th>19</th>\n",
              "      <td>187.100</td>\n",
              "      <td>419.00</td>\n",
              "    </tr>\n",
              "    <tr>\n",
              "      <th>20</th>\n",
              "      <td>521.000</td>\n",
              "      <td>655.00</td>\n",
              "    </tr>\n",
              "    <tr>\n",
              "      <th>21</th>\n",
              "      <td>0.785</td>\n",
              "      <td>3.50</td>\n",
              "    </tr>\n",
              "    <tr>\n",
              "      <th>22</th>\n",
              "      <td>10.000</td>\n",
              "      <td>115.00</td>\n",
              "    </tr>\n",
              "    <tr>\n",
              "      <th>23</th>\n",
              "      <td>3.300</td>\n",
              "      <td>25.60</td>\n",
              "    </tr>\n",
              "    <tr>\n",
              "      <th>24</th>\n",
              "      <td>0.200</td>\n",
              "      <td>5.00</td>\n",
              "    </tr>\n",
              "    <tr>\n",
              "      <th>25</th>\n",
              "      <td>1.410</td>\n",
              "      <td>17.50</td>\n",
              "    </tr>\n",
              "    <tr>\n",
              "      <th>26</th>\n",
              "      <td>529.000</td>\n",
              "      <td>680.00</td>\n",
              "    </tr>\n",
              "    <tr>\n",
              "      <th>27</th>\n",
              "      <td>207.000</td>\n",
              "      <td>406.00</td>\n",
              "    </tr>\n",
              "    <tr>\n",
              "      <th>28</th>\n",
              "      <td>85.000</td>\n",
              "      <td>325.00</td>\n",
              "    </tr>\n",
              "    <tr>\n",
              "      <th>29</th>\n",
              "      <td>0.750</td>\n",
              "      <td>12.30</td>\n",
              "    </tr>\n",
              "    <tr>\n",
              "      <th>30</th>\n",
              "      <td>62.000</td>\n",
              "      <td>1320.00</td>\n",
              "    </tr>\n",
              "    <tr>\n",
              "      <th>31</th>\n",
              "      <td>3.500</td>\n",
              "      <td>3.90</td>\n",
              "    </tr>\n",
              "    <tr>\n",
              "      <th>32</th>\n",
              "      <td>6.800</td>\n",
              "      <td>179.00</td>\n",
              "    </tr>\n",
              "    <tr>\n",
              "      <th>33</th>\n",
              "      <td>35.000</td>\n",
              "      <td>56.00</td>\n",
              "    </tr>\n",
              "    <tr>\n",
              "      <th>34</th>\n",
              "      <td>4.050</td>\n",
              "      <td>17.00</td>\n",
              "    </tr>\n",
              "    <tr>\n",
              "      <th>35</th>\n",
              "      <td>0.120</td>\n",
              "      <td>1.00</td>\n",
              "    </tr>\n",
              "    <tr>\n",
              "      <th>36</th>\n",
              "      <td>0.023</td>\n",
              "      <td>0.40</td>\n",
              "    </tr>\n",
              "    <tr>\n",
              "      <th>37</th>\n",
              "      <td>0.010</td>\n",
              "      <td>0.25</td>\n",
              "    </tr>\n",
              "    <tr>\n",
              "      <th>38</th>\n",
              "      <td>1.400</td>\n",
              "      <td>12.50</td>\n",
              "    </tr>\n",
              "    <tr>\n",
              "      <th>39</th>\n",
              "      <td>250.000</td>\n",
              "      <td>490.00</td>\n",
              "    </tr>\n",
              "    <tr>\n",
              "      <th>40</th>\n",
              "      <td>2.500</td>\n",
              "      <td>12.10</td>\n",
              "    </tr>\n",
              "    <tr>\n",
              "      <th>41</th>\n",
              "      <td>55.500</td>\n",
              "      <td>175.00</td>\n",
              "    </tr>\n",
              "    <tr>\n",
              "      <th>42</th>\n",
              "      <td>100.000</td>\n",
              "      <td>157.00</td>\n",
              "    </tr>\n",
              "    <tr>\n",
              "      <th>43</th>\n",
              "      <td>52.160</td>\n",
              "      <td>440.00</td>\n",
              "    </tr>\n",
              "    <tr>\n",
              "      <th>44</th>\n",
              "      <td>10.550</td>\n",
              "      <td>179.50</td>\n",
              "    </tr>\n",
              "    <tr>\n",
              "      <th>45</th>\n",
              "      <td>0.550</td>\n",
              "      <td>2.40</td>\n",
              "    </tr>\n",
              "    <tr>\n",
              "      <th>46</th>\n",
              "      <td>60.000</td>\n",
              "      <td>81.00</td>\n",
              "    </tr>\n",
              "    <tr>\n",
              "      <th>47</th>\n",
              "      <td>3.600</td>\n",
              "      <td>21.00</td>\n",
              "    </tr>\n",
              "    <tr>\n",
              "      <th>48</th>\n",
              "      <td>4.288</td>\n",
              "      <td>39.20</td>\n",
              "    </tr>\n",
              "    <tr>\n",
              "      <th>49</th>\n",
              "      <td>0.280</td>\n",
              "      <td>1.90</td>\n",
              "    </tr>\n",
              "    <tr>\n",
              "      <th>50</th>\n",
              "      <td>0.075</td>\n",
              "      <td>1.20</td>\n",
              "    </tr>\n",
              "    <tr>\n",
              "      <th>51</th>\n",
              "      <td>0.122</td>\n",
              "      <td>3.00</td>\n",
              "    </tr>\n",
              "    <tr>\n",
              "      <th>52</th>\n",
              "      <td>0.048</td>\n",
              "      <td>0.33</td>\n",
              "    </tr>\n",
              "    <tr>\n",
              "      <th>53</th>\n",
              "      <td>192.000</td>\n",
              "      <td>180.00</td>\n",
              "    </tr>\n",
              "    <tr>\n",
              "      <th>54</th>\n",
              "      <td>3.000</td>\n",
              "      <td>25.00</td>\n",
              "    </tr>\n",
              "    <tr>\n",
              "      <th>55</th>\n",
              "      <td>160.000</td>\n",
              "      <td>169.00</td>\n",
              "    </tr>\n",
              "    <tr>\n",
              "      <th>56</th>\n",
              "      <td>0.900</td>\n",
              "      <td>2.60</td>\n",
              "    </tr>\n",
              "    <tr>\n",
              "      <th>57</th>\n",
              "      <td>1.620</td>\n",
              "      <td>11.40</td>\n",
              "    </tr>\n",
              "    <tr>\n",
              "      <th>58</th>\n",
              "      <td>0.104</td>\n",
              "      <td>2.50</td>\n",
              "    </tr>\n",
              "    <tr>\n",
              "      <th>59</th>\n",
              "      <td>4.235</td>\n",
              "      <td>50.40</td>\n",
              "    </tr>\n",
              "  </tbody>\n",
              "</table>\n",
              "</div>"
            ],
            "text/plain": [
              "      Brain     Body\n",
              "0     3.385    44.50\n",
              "1     0.480    15.50\n",
              "2     1.350     8.10\n",
              "3   465.000   423.00\n",
              "4    36.330   119.50\n",
              "5    27.660   115.00\n",
              "6    14.830    98.20\n",
              "7     1.040     5.50\n",
              "8     4.190    58.00\n",
              "9     0.425     6.40\n",
              "10    0.101     4.00\n",
              "11    0.920     5.70\n",
              "12    1.000     6.60\n",
              "13    0.005     0.14\n",
              "14    0.060     1.00\n",
              "15    3.500    10.80\n",
              "16    2.000    12.30\n",
              "17    1.700     6.30\n",
              "18    0.023     0.30\n",
              "19  187.100   419.00\n",
              "20  521.000   655.00\n",
              "21    0.785     3.50\n",
              "22   10.000   115.00\n",
              "23    3.300    25.60\n",
              "24    0.200     5.00\n",
              "25    1.410    17.50\n",
              "26  529.000   680.00\n",
              "27  207.000   406.00\n",
              "28   85.000   325.00\n",
              "29    0.750    12.30\n",
              "30   62.000  1320.00\n",
              "31    3.500     3.90\n",
              "32    6.800   179.00\n",
              "33   35.000    56.00\n",
              "34    4.050    17.00\n",
              "35    0.120     1.00\n",
              "36    0.023     0.40\n",
              "37    0.010     0.25\n",
              "38    1.400    12.50\n",
              "39  250.000   490.00\n",
              "40    2.500    12.10\n",
              "41   55.500   175.00\n",
              "42  100.000   157.00\n",
              "43   52.160   440.00\n",
              "44   10.550   179.50\n",
              "45    0.550     2.40\n",
              "46   60.000    81.00\n",
              "47    3.600    21.00\n",
              "48    4.288    39.20\n",
              "49    0.280     1.90\n",
              "50    0.075     1.20\n",
              "51    0.122     3.00\n",
              "52    0.048     0.33\n",
              "53  192.000   180.00\n",
              "54    3.000    25.00\n",
              "55  160.000   169.00\n",
              "56    0.900     2.60\n",
              "57    1.620    11.40\n",
              "58    0.104     2.50\n",
              "59    4.235    50.40"
            ]
          },
          "metadata": {
            "tags": []
          },
          "execution_count": 58
        }
      ]
    },
    {
      "cell_type": "code",
      "metadata": {
        "id": "PDo2ZyNPiUH0",
        "colab_type": "code",
        "outputId": "7c4db646-990f-424d-f4b9-f397582ec663",
        "colab": {
          "base_uri": "https://localhost:8080/",
          "height": 268
        }
      },
      "source": [
        "plt.scatter(df[\"Brain\"], df[\"Body\"], s=50);"
      ],
      "execution_count": 59,
      "outputs": [
        {
          "output_type": "display_data",
          "data": {
            "image/png": "[encoded data removed]",
            "text/plain": [
              "<Figure size 432x288 with 1 Axes>"
            ]
          },
          "metadata": {
            "tags": []
          }
        }
      ]
    },
    {
      "cell_type": "code",
      "metadata": {
        "id": "fd_3tc9Jik7U",
        "colab_type": "code",
        "colab": {}
      },
      "source": [
        "from sklearn.cluster import KMeans\n",
        "kmeans = KMeans(n_clusters=8)\n",
        "kmeans.fit(df)\n",
        "y_kmeans = kmeans.predict(df)"
      ],
      "execution_count": 0,
      "outputs": []
    },
    {
      "cell_type": "code",
      "metadata": {
        "id": "V-JlZGkWweiK",
        "colab_type": "code",
        "outputId": "a3cb3c87-3400-42af-cf29-d85ae27b2eeb",
        "colab": {
          "base_uri": "https://localhost:8080/",
          "height": 285
        }
      },
      "source": [
        "plt.scatter(df[\"Brain\"], df[\"Body\"], c=y_kmeans, s=50, cmap='viridis')\n",
        "\n",
        "\n",
        "centers = kmeans.cluster_centers_\n",
        "plt.scatter(centers[:, 0], centers[:, 1], c='black', s=200, alpha=0.5)"
      ],
      "execution_count": 0,
      "outputs": [
        {
          "output_type": "execute_result",
          "data": {
            "text/plain": [
              "<matplotlib.collections.PathCollection at 0x7f81786873c8>"
            ]
          },
          "metadata": {
            "tags": []
          },
          "execution_count": 46
        },
        {
          "output_type": "display_data",
          "data": {
            "image/png": "[encoded data removed]",
            "text/plain": [
              "<Figure size 432x288 with 1 Axes>"
            ]
          },
          "metadata": {
            "tags": []
          }
        }
      ]
    },
    {
      "cell_type": "code",
      "metadata": {
        "id": "eN_AhlOqwLH1",
        "colab_type": "code",
        "outputId": "989e5409-6d63-4c41-a6e2-1223359168f6",
        "colab": {
          "base_uri": "https://localhost:8080/",
          "height": 34
        }
      },
      "source": [
        "from sklearn.metrics import silhouette_score\n",
        "silhouette_score(df, kmeans.labels_)"
      ],
      "execution_count": 0,
      "outputs": [
        {
          "output_type": "execute_result",
          "data": {
            "text/plain": [
              "0.7235477822647723"
            ]
          },
          "metadata": {
            "tags": []
          },
          "execution_count": 47
        }
      ]
    },
    {
      "cell_type": "markdown",
      "metadata": {
        "id": "MGtc0X5IiyA8",
        "colab_type": "text"
      },
      "source": [
        "fit kmean\n",
        "plot it with scatter plot\n",
        "find the best k"
      ]
    },
    {
      "cell_type": "markdown",
      "metadata": {
        "id": "2aXAH9HnirC1",
        "colab_type": "text"
      },
      "source": [
        ""
      ]
    },
    {
      "cell_type": "markdown",
      "metadata": {
        "id": "znRKhmxe1dRC",
        "colab_type": "text"
      },
      "source": [
        ""
      ]
    },
    {
      "cell_type": "markdown",
      "metadata": {
        "id": "FtJAnA5v1dUM",
        "colab_type": "text"
      },
      "source": [
        ""
      ]
    },
    {
      "cell_type": "markdown",
      "metadata": {
        "id": "gY-Yv2Yj1dXV",
        "colab_type": "text"
      },
      "source": [
        "Let's try UCI \n",
        "Online Retail II Data Set\n",
        "https://archive.ics.uci.edu/ml/datasets/Online+Retail+II\n",
        "\n",
        " https://archive.ics.uci.edu/ml/machine-learning-databases/00502/online_retail_II.xlsx\n"
      ]
    },
    {
      "cell_type": "code",
      "metadata": {
        "id": "LVEhL32i1nrU",
        "colab_type": "code",
        "colab": {}
      },
      "source": [
        "import pandas as pd\n",
        "%matplotlib inline\n",
        "import matplotlib.pyplot as plt\n",
        "import seaborn as sns; sns.set()  # for plot styling\n",
        "import numpy as np"
      ],
      "execution_count": 0,
      "outputs": []
    },
    {
      "cell_type": "code",
      "metadata": {
        "id": "NEAUnNU21ryT",
        "colab_type": "code",
        "colab": {}
      },
      "source": [
        "df = pd.read_csv(\"https://raw.githubusercontent.com/asukul/DS301-f19/master/datasets/online_retail_II/online_retail_II-small3.csv\")"
      ],
      "execution_count": 0,
      "outputs": []
    },
    {
      "cell_type": "code",
      "metadata": {
        "id": "7s0lPvcb1y0r",
        "colab_type": "code",
        "outputId": "8763877d-3a7f-4393-ca78-e96d87ec6c91",
        "colab": {
          "base_uri": "https://localhost:8080/",
          "height": 406
        }
      },
      "source": [
        "df"
      ],
      "execution_count": 0,
      "outputs": [
        {
          "output_type": "execute_result",
          "data": {
            "text/html": [
              "<div>\n",
              "<style scoped>\n",
              "    .dataframe tbody tr th:only-of-type {\n",
              "        vertical-align: middle;\n",
              "    }\n",
              "\n",
              "    .dataframe tbody tr th {\n",
              "        vertical-align: top;\n",
              "    }\n",
              "\n",
              "    .dataframe thead th {\n",
              "        text-align: right;\n",
              "    }\n",
              "</style>\n",
              "<table border=\"1\" class=\"dataframe\">\n",
              "  <thead>\n",
              "    <tr style=\"text-align: right;\">\n",
              "      <th></th>\n",
              "      <th>Quantity</th>\n",
              "      <th>Price</th>\n",
              "    </tr>\n",
              "  </thead>\n",
              "  <tbody>\n",
              "    <tr>\n",
              "      <th>0</th>\n",
              "      <td>1</td>\n",
              "      <td>339.020</td>\n",
              "    </tr>\n",
              "    <tr>\n",
              "      <th>1</th>\n",
              "      <td>1</td>\n",
              "      <td>337.230</td>\n",
              "    </tr>\n",
              "    <tr>\n",
              "      <th>2</th>\n",
              "      <td>124</td>\n",
              "      <td>336.520</td>\n",
              "    </tr>\n",
              "    <tr>\n",
              "      <th>3</th>\n",
              "      <td>167</td>\n",
              "      <td>334.710</td>\n",
              "    </tr>\n",
              "    <tr>\n",
              "      <th>4</th>\n",
              "      <td>210</td>\n",
              "      <td>334.160</td>\n",
              "    </tr>\n",
              "    <tr>\n",
              "      <th>...</th>\n",
              "      <td>...</td>\n",
              "      <td>...</td>\n",
              "    </tr>\n",
              "    <tr>\n",
              "      <th>6363</th>\n",
              "      <td>900</td>\n",
              "      <td>0.040</td>\n",
              "    </tr>\n",
              "    <tr>\n",
              "      <th>6364</th>\n",
              "      <td>500</td>\n",
              "      <td>0.040</td>\n",
              "    </tr>\n",
              "    <tr>\n",
              "      <th>6365</th>\n",
              "      <td>200</td>\n",
              "      <td>0.040</td>\n",
              "    </tr>\n",
              "    <tr>\n",
              "      <th>6366</th>\n",
              "      <td>100</td>\n",
              "      <td>0.040</td>\n",
              "    </tr>\n",
              "    <tr>\n",
              "      <th>6367</th>\n",
              "      <td>1</td>\n",
              "      <td>0.001</td>\n",
              "    </tr>\n",
              "  </tbody>\n",
              "</table>\n",
              "<p>6368 rows × 2 columns</p>\n",
              "</div>"
            ],
            "text/plain": [
              "      Quantity    Price\n",
              "0            1  339.020\n",
              "1            1  337.230\n",
              "2          124  336.520\n",
              "3          167  334.710\n",
              "4          210  334.160\n",
              "...        ...      ...\n",
              "6363       900    0.040\n",
              "6364       500    0.040\n",
              "6365       200    0.040\n",
              "6366       100    0.040\n",
              "6367         1    0.001\n",
              "\n",
              "[6368 rows x 2 columns]"
            ]
          },
          "metadata": {
            "tags": []
          },
          "execution_count": 37
        }
      ]
    },
    {
      "cell_type": "code",
      "metadata": {
        "colab_type": "code",
        "outputId": "e6647e7d-9222-424d-f910-5b8326e10fdd",
        "id": "MinhUhxP3vVo",
        "colab": {
          "base_uri": "https://localhost:8080/",
          "height": 267
        }
      },
      "source": [
        "plt.scatter(df[\"Quantity\"], df[\"Price\"], s=50);"
      ],
      "execution_count": 0,
      "outputs": [
        {
          "output_type": "display_data",
          "data": {
            "image/png": "[encoded data removed]",
            "text/plain": [
              "<Figure size 432x288 with 1 Axes>"
            ]
          },
          "metadata": {
            "tags": []
          }
        }
      ]
    },
    {
      "cell_type": "code",
      "metadata": {
        "colab_type": "code",
        "id": "ifBIkdyb3vVs",
        "colab": {}
      },
      "source": [
        "from sklearn.cluster import KMeans\n",
        "kmeans = KMeans(n_clusters=7)\n",
        "kmeans.fit(df)\n",
        "y_kmeans = kmeans.predict(df)"
      ],
      "execution_count": 0,
      "outputs": []
    },
    {
      "cell_type": "code",
      "metadata": {
        "colab_type": "code",
        "outputId": "047ffc86-84db-48ca-c829-8756b42b411a",
        "id": "d3rLQn883vVt",
        "colab": {
          "base_uri": "https://localhost:8080/",
          "height": 285
        }
      },
      "source": [
        "plt.scatter(df[\"Quantity\"], df[\"Price\"], c=y_kmeans, s=50, cmap='viridis')\n",
        "\n",
        "\n",
        "centers = kmeans.cluster_centers_\n",
        "plt.scatter(centers[:, 0], centers[:, 1], c='black', s=200, alpha=0.5)"
      ],
      "execution_count": 0,
      "outputs": [
        {
          "output_type": "execute_result",
          "data": {
            "text/plain": [
              "<matplotlib.collections.PathCollection at 0x7ffa49968240>"
            ]
          },
          "metadata": {
            "tags": []
          },
          "execution_count": 40
        },
        {
          "output_type": "display_data",
          "data": {
            "image/png": "[encoded data removed]",
            "text/plain": [
              "<Figure size 432x288 with 1 Axes>"
            ]
          },
          "metadata": {
            "tags": []
          }
        }
      ]
    },
    {
      "cell_type": "code",
      "metadata": {
        "colab_type": "code",
        "outputId": "ab735eaa-d344-48d2-ebd6-4d336254cd43",
        "id": "4oKhBh2r3xr7",
        "colab": {
          "base_uri": "https://localhost:8080/",
          "height": 34
        }
      },
      "source": [
        "from sklearn.metrics import silhouette_score\n",
        "silhouette_score(df, kmeans.labels_)"
      ],
      "execution_count": 0,
      "outputs": [
        {
          "output_type": "execute_result",
          "data": {
            "text/plain": [
              "0.6884294682819899"
            ]
          },
          "metadata": {
            "tags": []
          },
          "execution_count": 41
        }
      ]
    },
    {
      "cell_type": "code",
      "metadata": {
        "id": "5bKtbz1q4Zrb",
        "colab_type": "code",
        "outputId": "b8dce4bd-c3c6-4eb6-ca17-ef956673215b",
        "colab": {
          "base_uri": "https://localhost:8080/",
          "height": 141
        }
      },
      "source": [
        "centers"
      ],
      "execution_count": 0,
      "outputs": [
        {
          "output_type": "execute_result",
          "data": {
            "text/plain": [
              "array([[ 188.59386503,    3.99078528],\n",
              "       [ 951.44966443,  138.76504251],\n",
              "       [1537.27966102,  177.82633898],\n",
              "       [ 500.84615385,   29.5738141 ],\n",
              "       [  25.81225209,    6.64447576],\n",
              "       [2226.05      ,  222.766     ],\n",
              "       [  11.60955056,  209.77918138]])"
            ]
          },
          "metadata": {
            "tags": []
          },
          "execution_count": 42
        }
      ]
    },
    {
      "cell_type": "code",
      "metadata": {
        "id": "hQNi_6Av3xfs",
        "colab_type": "code",
        "outputId": "094f08c4-580d-4eb6-b8ed-f50ed85f6ba5",
        "colab": {
          "base_uri": "https://localhost:8080/",
          "height": 336
        }
      },
      "source": [
        "score_list=[0.1]\n",
        "for i in range(2,20):\n",
        "  kmeans = KMeans(n_clusters=i)\n",
        "  kmeans.fit(df)\n",
        "  y_kmeans = kmeans.predict(df)\n",
        "  print(i, silhouette_score(df, kmeans.labels_))"
      ],
      "execution_count": 0,
      "outputs": [
        {
          "output_type": "stream",
          "text": [
            "2 0.883084422194854\n",
            "3 0.8087835856049325\n",
            "4 0.7552819955773241\n",
            "5 0.706542407677411\n",
            "6 0.7122426921694395\n",
            "7 0.6768754850242878\n",
            "8 0.6695902435867174\n",
            "9 0.6701359120189516\n",
            "10 0.6274888253949699\n",
            "11 0.6285292270516177\n",
            "12 0.63953682960946\n",
            "13 0.6348372700151036\n",
            "14 0.6365786863927001\n",
            "15 0.6415634036386764\n",
            "16 0.6383027377024696\n",
            "17 0.5478323495859657\n",
            "18 0.5836957948140201\n",
            "19 0.5543211383469416\n"
          ],
          "name": "stdout"
        }
      ]
    },
    {
      "cell_type": "code",
      "metadata": {
        "id": "suIQ9LQZ4LdC",
        "colab_type": "code",
        "colab": {}
      },
      "source": [
        ""
      ],
      "execution_count": 0,
      "outputs": []
    },
    {
      "cell_type": "code",
      "metadata": {
        "colab_type": "code",
        "id": "_7poEzC8Fsou",
        "colab": {}
      },
      "source": [
        "score_list_i=[]\n",
        "score_list_value=[]\n",
        "\n",
        "for i in range(2,20):\n",
        "  kmeans = KMeans(n_clusters=i)\n",
        "  kmeans.fit(df)\n",
        "  y_kmeans = kmeans.predict(df)\n",
        "  score_list_i.append(i)\n",
        "  score_list_value.append(silhouette_score(df, kmeans.labels_))"
      ],
      "execution_count": 0,
      "outputs": []
    },
    {
      "cell_type": "code",
      "metadata": {
        "colab_type": "code",
        "outputId": "7e8fdf87-4311-4114-9504-dabd14f57be2",
        "id": "3YNYPsjyFspA",
        "colab": {
          "base_uri": "https://localhost:8080/",
          "height": 34
        }
      },
      "source": [
        "score_list_i"
      ],
      "execution_count": 0,
      "outputs": [
        {
          "output_type": "execute_result",
          "data": {
            "text/plain": [
              "[2, 3, 4, 5, 6, 7, 8, 9, 10, 11, 12, 13, 14, 15, 16, 17, 18, 19]"
            ]
          },
          "metadata": {
            "tags": []
          },
          "execution_count": 45
        }
      ]
    },
    {
      "cell_type": "code",
      "metadata": {
        "colab_type": "code",
        "outputId": "3232eec6-fbdf-4423-8738-02f2282f06fb",
        "id": "y0sCIq4nFspI",
        "colab": {
          "base_uri": "https://localhost:8080/",
          "height": 336
        }
      },
      "source": [
        "score_list_value"
      ],
      "execution_count": 0,
      "outputs": [
        {
          "output_type": "execute_result",
          "data": {
            "text/plain": [
              "[0.883084422194854,\n",
              " 0.8091679038014916,\n",
              " 0.7526224214070943,\n",
              " 0.706542407677411,\n",
              " 0.7122690924201579,\n",
              " 0.6951626080585959,\n",
              " 0.6880105086360966,\n",
              " 0.6675921800993567,\n",
              " 0.6557782819764683,\n",
              " 0.6263507850146397,\n",
              " 0.6280501871744625,\n",
              " 0.6376819879045065,\n",
              " 0.6363723264612853,\n",
              " 0.6353185015422755,\n",
              " 0.6365505243052764,\n",
              " 0.5862278075848498,\n",
              " 0.5480427373565854,\n",
              " 0.5527802407028332]"
            ]
          },
          "metadata": {
            "tags": []
          },
          "execution_count": 46
        }
      ]
    },
    {
      "cell_type": "code",
      "metadata": {
        "colab_type": "code",
        "outputId": "85e3d482-dbff-4da0-a682-510910a8e942",
        "id": "y6LJvCcFFspM",
        "colab": {
          "base_uri": "https://localhost:8080/",
          "height": 284
        }
      },
      "source": [
        "plt.plot(score_list_i,score_list_value)\n",
        "plt.xlabel(\"n_clusters\")\n",
        "plt.ylabel(\"silhouette score\")\n",
        "plt.grid(True)"
      ],
      "execution_count": 0,
      "outputs": [
        {
          "output_type": "display_data",
          "data": {
            "image/png": "[encoded data removed]",
            "text/plain": [
              "<Figure size 432x288 with 1 Axes>"
            ]
          },
          "metadata": {
            "tags": []
          }
        }
      ]
    },
    {
      "cell_type": "code",
      "metadata": {
        "id": "xjy1-E29F4BL",
        "colab_type": "code",
        "colab": {}
      },
      "source": [
        ""
      ],
      "execution_count": 0,
      "outputs": []
    }
  ]
}