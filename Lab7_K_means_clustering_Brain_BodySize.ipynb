{
  "nbformat": 4,
  "nbformat_minor": 0,
  "metadata": {
    "colab": {
      "name": "Lab7_K-means-clustering_Brain-BodySize.ipynb",
      "provenance": [],
      "collapsed_sections": [],
      "include_colab_link": true
    },
    "kernelspec": {
      "name": "python3",
      "display_name": "Python 3"
    }
  },
  "cells": [
    {
      "cell_type": "markdown",
      "metadata": {
        "id": "view-in-github",
        "colab_type": "text"
      },
      "source": [
        "<a href=\"https://colab.research.google.com/github/asukul/DS301-f19/blob/master/Lab7_K_means_clustering_Brain_BodySize.ipynb\" target=\"_parent\"><img src=\"https://colab.research.google.com/assets/colab-badge.svg\" alt=\"Open In Colab\"/></a>"
      ]
    },
    {
      "cell_type": "markdown",
      "metadata": {
        "id": "WdeCDHbVgGP1",
        "colab_type": "text"
      },
      "source": [
        "ref: https://jakevdp.github.io/PythonDataScienceHandbook/05.11-k-means.html"
      ]
    },
    {
      "cell_type": "markdown",
      "metadata": {
        "id": "FQPIHLgjgKE7",
        "colab_type": "text"
      },
      "source": [
        "In the previous few sections, we have explored one category of unsupervised machine learning models: dimensionality reduction. Here we will move on to another class of unsupervised machine learning models: clustering algorithms. Clustering algorithms seek to learn, from the properties of the data, an optimal division or discrete labeling of groups of points.\n",
        "\n",
        "Many clustering algorithms are available in Scikit-Learn and elsewhere, but perhaps the simplest to understand is an algorithm known as k-means clustering, which is implemented in sklearn.cluster.KMeans.\n",
        "\n",
        "We begin with the standard imports:"
      ]
    },
    {
      "cell_type": "code",
      "metadata": {
        "id": "UoJ7YgDtgE0V",
        "colab_type": "code",
        "colab": {}
      },
      "source": [
        "%matplotlib inline\n",
        "import matplotlib.pyplot as plt\n",
        "import seaborn as sns; sns.set()  # for plot styling\n",
        "import numpy as np"
      ],
      "execution_count": 0,
      "outputs": []
    },
    {
      "cell_type": "markdown",
      "metadata": {
        "id": "MxParEukgOL7",
        "colab_type": "text"
      },
      "source": [
        "Introducing k-Means\n",
        "The k-means algorithm searches for a pre-determined number of clusters within an unlabeled multidimensional dataset. It accomplishes this using a simple conception of what the optimal clustering looks like:\n",
        "\n",
        "The \"cluster center\" is the arithmetic mean of all the points belonging to the cluster.\n",
        "Each point is closer to its own cluster center than to other cluster centers.\n",
        "Those two assumptions are the basis of the k-means model. We will soon dive into exactly how the algorithm reaches this solution, but for now let's take a look at a simple dataset and see the k-means result.\n",
        "\n",
        "First, let's generate a two-dimensional dataset containing four distinct blobs. To emphasize that this is an unsupervised algorithm, we will leave the labels out of the visualization"
      ]
    },
    {
      "cell_type": "code",
      "metadata": {
        "id": "8yMEmvORhJQq",
        "colab_type": "code",
        "outputId": "a7920807-4972-4825-cd16-1cf5a18790b1",
        "colab": {
          "base_uri": "https://localhost:8080/",
          "height": 34
        }
      },
      "source": [
        "random_num = np.random.randint(3,9)\n",
        "print(random_num)"
      ],
      "execution_count": 2,
      "outputs": [
        {
          "output_type": "stream",
          "text": [
            "8\n"
          ],
          "name": "stdout"
        }
      ]
    },
    {
      "cell_type": "code",
      "metadata": {
        "id": "_NlIUGgNgNJq",
        "colab_type": "code",
        "outputId": "34270a3e-c18d-4a7e-bff8-9583d06c8c79",
        "colab": {
          "base_uri": "https://localhost:8080/",
          "height": 268
        }
      },
      "source": [
        "from sklearn.datasets.samples_generator import make_blobs\n",
        "X, y_true = make_blobs(n_samples=300, centers=random_num,\n",
        "                       cluster_std=0.60, random_state=0)\n",
        "plt.scatter(X[:, 0], X[:, 1], s=50);"
      ],
      "execution_count": 3,
      "outputs": [
        {
          "output_type": "display_data",
          "data": {
            "image/png": "[encoded data removed]",
            "text/plain": [
              "<Figure size 432x288 with 1 Axes>"
            ]
          },
          "metadata": {
            "tags": []
          }
        }
      ]
    },
    {
      "cell_type": "markdown",
      "metadata": {
        "id": "xDODT4HjgtjL",
        "colab_type": "text"
      },
      "source": [
        "By eye, it is relatively easy to pick out the four clusters. The k-means algorithm does this automatically, and in Scikit-Learn uses the typical estimator API:"
      ]
    },
    {
      "cell_type": "code",
      "metadata": {
        "id": "Fo8YuqUmgQlb",
        "colab_type": "code",
        "colab": {}
      },
      "source": [
        "from sklearn.cluster import KMeans\n",
        "kmeans = KMeans(n_clusters=7)\n",
        "kmeans.fit(X)\n",
        "y_kmeans = kmeans.predict(X)"
      ],
      "execution_count": 0,
      "outputs": []
    },
    {
      "cell_type": "code",
      "metadata": {
        "id": "7BwAoT_czmLZ",
        "colab_type": "code",
        "outputId": "cbac7936-e83f-4bc3-8a03-2e013e6a05da",
        "colab": {
          "base_uri": "https://localhost:8080/",
          "height": 1000
        }
      },
      "source": [
        "X"
      ],
      "execution_count": 5,
      "outputs": [
        {
          "output_type": "execute_result",
          "data": {
            "text/plain": [
              "array([[ 2.42371514e+00,  1.45098766e+00],\n",
              "       [ 1.25566754e+00,  3.38204112e+00],\n",
              "       [ 2.45864438e+00,  1.14214076e+00],\n",
              "       [ 6.05699576e+00,  6.63135478e-01],\n",
              "       [ 5.72346856e+00,  9.33093025e-02],\n",
              "       [ 8.15633274e-01,  8.25734219e+00],\n",
              "       [-5.55523811e-01,  4.69595848e+00],\n",
              "       [-7.47083898e-02,  8.06951601e+00],\n",
              "       [-1.80022352e+00,  2.92836976e+00],\n",
              "       [ 6.87413347e+00,  9.88599059e-01],\n",
              "       [-8.48092169e+00, -8.19962119e+00],\n",
              "       [-1.18962079e+00,  8.18523222e+00],\n",
              "       [ 2.29287155e+00,  2.41826755e-01],\n",
              "       [-1.01280565e+00,  2.52726691e+00],\n",
              "       [ 4.53791789e-01,  3.95647753e+00],\n",
              "       [ 1.16051297e+00,  1.16129868e+00],\n",
              "       [ 6.10895013e+00, -8.68813182e-04],\n",
              "       [-1.74841312e+00,  2.77425475e+00],\n",
              "       [ 2.06156753e+00,  1.96918596e+00],\n",
              "       [ 6.39220383e+00,  9.27233150e-01],\n",
              "       [ 6.36000042e+00,  5.08833914e-01],\n",
              "       [ 1.71444449e+00,  5.02521524e+00],\n",
              "       [ 5.49291353e+00,  7.39841008e-01],\n",
              "       [ 1.99619601e+00,  4.99576688e-01],\n",
              "       [ 9.30295220e+00, -2.03486756e+00],\n",
              "       [ 6.34925512e+00,  1.26255952e+00],\n",
              "       [ 9.83236423e+00, -2.12719063e+00],\n",
              "       [-9.01670563e+00, -8.13947957e+00],\n",
              "       [-9.26316031e+00, -7.78643949e+00],\n",
              "       [-1.32847671e+00,  8.48210630e+00],\n",
              "       [ 1.22732781e+00,  7.96408524e+00],\n",
              "       [-2.41002366e+00,  7.94872717e+00],\n",
              "       [-8.55707540e+00, -7.79667256e+00],\n",
              "       [-9.62469255e+00, -9.03935966e+00],\n",
              "       [ 1.00372519e+00,  4.19147702e+00],\n",
              "       [ 1.23915312e+00,  8.44600310e+00],\n",
              "       [ 8.84149258e+00, -2.81896542e+00],\n",
              "       [ 6.32745219e+00,  5.81073983e-01],\n",
              "       [-1.06382968e+00,  3.41198475e+00],\n",
              "       [ 1.49493180e+00,  3.85848832e+00],\n",
              "       [ 1.34094244e-01,  7.19945052e+00],\n",
              "       [-1.48792519e+00,  8.05749355e+00],\n",
              "       [ 2.97862565e+00,  8.46757797e+00],\n",
              "       [ 2.23421043e+00,  1.69349520e+00],\n",
              "       [ 2.01869933e+00,  8.37140329e+00],\n",
              "       [ 9.69232950e+00, -2.32890709e+00],\n",
              "       [-8.36642422e+00, -7.88728207e+00],\n",
              "       [ 5.95676822e-01,  4.08614263e+00],\n",
              "       [ 7.91991667e+00, -2.94467373e+00],\n",
              "       [-1.87540779e+00,  8.56214719e+00],\n",
              "       [ 7.93137001e-03,  4.17614316e+00],\n",
              "       [-2.22061347e+00,  3.38660112e+00],\n",
              "       [-8.22535094e+00, -8.47572929e+00],\n",
              "       [-8.51019011e+00, -8.48490254e+00],\n",
              "       [-1.21293802e+00,  2.81495446e+00],\n",
              "       [-2.12703322e+00,  1.99101960e+00],\n",
              "       [-1.47918366e+00,  7.89207097e+00],\n",
              "       [ 3.81310506e-01,  7.57127213e+00],\n",
              "       [ 6.74649768e+00,  1.60965198e+00],\n",
              "       [-6.08609213e-02,  9.03036415e+00],\n",
              "       [-1.92435126e+00,  7.39705336e+00],\n",
              "       [ 8.88187905e+00, -2.64388321e+00],\n",
              "       [-1.07644956e+00,  8.20076632e+00],\n",
              "       [ 6.32321266e+00,  6.13253749e-01],\n",
              "       [-1.43478748e+00,  7.89390012e+00],\n",
              "       [-8.70944858e+00, -7.99017806e+00],\n",
              "       [-2.04881086e+00,  7.02742951e+00],\n",
              "       [-9.99778313e+00, -8.24521350e+00],\n",
              "       [-9.38803409e+00, -8.71435804e+00],\n",
              "       [ 8.21972086e+00, -2.06060895e+00],\n",
              "       [ 5.59736337e+00, -1.17753915e-01],\n",
              "       [-1.22808021e-02,  8.66282341e+00],\n",
              "       [-1.54149969e+00,  2.47506372e+00],\n",
              "       [-1.88529365e+00,  2.77512922e+00],\n",
              "       [-8.81006609e+00, -8.52371566e+00],\n",
              "       [ 2.02106182e+00,  9.29074595e+00],\n",
              "       [ 9.91436085e+00, -2.60320111e+00],\n",
              "       [-9.13737274e+00, -8.36456746e+00],\n",
              "       [ 7.67775187e+00, -1.96737791e+00],\n",
              "       [ 2.15527162e+00,  1.27868252e+00],\n",
              "       [ 9.73720700e+00, -3.04149801e+00],\n",
              "       [-9.06265474e+00, -8.92840116e+00],\n",
              "       [ 1.53145902e+00,  9.55753403e+00],\n",
              "       [-1.90936623e+00,  2.67951917e+00],\n",
              "       [ 1.50616200e+00,  7.97870061e+00],\n",
              "       [-7.87045168e+00, -8.63655626e+00],\n",
              "       [ 2.40421483e+00,  9.10856940e+00],\n",
              "       [ 3.18515794e+00,  8.90082233e-02],\n",
              "       [-1.31458017e+00,  8.44756364e+00],\n",
              "       [ 1.59053068e+00,  8.49138740e+00],\n",
              "       [ 5.65939834e+00,  1.21003068e-01],\n",
              "       [ 1.08272576e+00,  4.06271877e+00],\n",
              "       [-8.65791124e+00, -7.57756608e+00],\n",
              "       [-1.27114877e+00,  3.32402708e+00],\n",
              "       [ 9.61362938e+00, -2.46477468e+00],\n",
              "       [ 2.73124907e+00,  2.49704755e-01],\n",
              "       [ 9.43796502e+00, -2.86571867e+00],\n",
              "       [ 1.60841463e+00,  4.01800537e-01],\n",
              "       [-1.55047370e+00,  2.21702616e+00],\n",
              "       [-1.53711626e+00,  3.14537330e+00],\n",
              "       [-8.72449073e+00, -7.34645730e+00],\n",
              "       [ 8.86284867e+00, -1.33543915e+00],\n",
              "       [ 5.20172368e+00,  1.07004710e+00],\n",
              "       [ 1.36678633e+00,  6.34971633e-01],\n",
              "       [-1.15176514e+00,  1.95664767e+00],\n",
              "       [ 5.93077718e-01,  8.16067404e+00],\n",
              "       [ 9.14911300e+00, -1.80306228e+00],\n",
              "       [ 8.25439172e+00, -2.09880134e+00],\n",
              "       [ 9.64857430e-01,  8.61742414e+00],\n",
              "       [-1.35894925e+00,  2.85899203e+00],\n",
              "       [ 1.20390395e+00,  8.40258590e+00],\n",
              "       [ 2.33812285e+00,  3.43116792e+00],\n",
              "       [ 8.16741348e+00, -2.61795403e+00],\n",
              "       [ 1.66010539e+00,  9.14071606e+00],\n",
              "       [ 3.17580290e+00,  1.44129045e+00],\n",
              "       [ 1.00919743e+01, -2.74483913e+00],\n",
              "       [-1.68361420e+00,  7.00544164e+00],\n",
              "       [-1.97064181e+00,  3.84369102e+00],\n",
              "       [-8.64557248e+00, -9.25383389e+00],\n",
              "       [-2.19801881e+00,  8.20168764e+00],\n",
              "       [ 1.35139348e+00,  2.06383637e+00],\n",
              "       [-1.27355865e+00,  7.66332770e+00],\n",
              "       [-9.80796668e-01,  3.10821319e+00],\n",
              "       [ 1.63852681e+00,  8.07882936e-01],\n",
              "       [-8.81471223e+00, -1.00850998e+01],\n",
              "       [ 9.65924389e+00, -3.27354367e+00],\n",
              "       [ 1.29297652e+00,  1.47930168e+00],\n",
              "       [ 9.26384594e+00, -2.23461272e+00],\n",
              "       [ 9.44152023e+00, -2.92704379e+00],\n",
              "       [-1.91307505e+00,  1.58384037e+00],\n",
              "       [-8.67108256e-01,  3.31104050e+00],\n",
              "       [ 1.80709613e+00,  4.49190773e-01],\n",
              "       [ 4.57773892e+00,  6.52131544e-01],\n",
              "       [ 9.65759442e-01,  8.20339239e+00],\n",
              "       [ 9.23627937e+00, -2.39555279e+00],\n",
              "       [-9.33921160e-01,  7.88851327e+00],\n",
              "       [-1.80506160e+00,  3.20677115e+00],\n",
              "       [-5.56856836e-01,  8.48323117e+00],\n",
              "       [ 6.29449867e+00,  7.91674086e-01],\n",
              "       [-2.38134056e+00,  2.62189033e+00],\n",
              "       [ 6.40032841e+00, -1.06590791e+00],\n",
              "       [ 5.57098705e+00,  6.86701453e-01],\n",
              "       [ 5.78294230e+00,  6.94474158e-01],\n",
              "       [ 5.47530840e+00, -9.16397965e-02],\n",
              "       [-1.62510831e+00,  7.54684374e+00],\n",
              "       [-2.03217189e+00,  8.83033842e+00],\n",
              "       [-2.30261816e+00,  3.07811278e+00],\n",
              "       [-8.46223702e+00, -9.32635172e+00],\n",
              "       [ 1.82373479e+00,  9.12959606e+00],\n",
              "       [ 8.81476886e+00, -3.19384451e+00],\n",
              "       [ 1.71287867e-02,  8.75283220e+00],\n",
              "       [ 4.31891060e-01,  4.33495456e+00],\n",
              "       [-8.30700969e+00, -9.35525825e+00],\n",
              "       [-8.01379796e+00, -8.41797085e+00],\n",
              "       [-8.25329170e+00, -7.99398823e+00],\n",
              "       [ 3.33818506e-01,  4.93645836e+00],\n",
              "       [ 1.19548890e+00,  8.08609599e+00],\n",
              "       [ 1.81336135e+00,  1.63113070e+00],\n",
              "       [ 5.36492327e+00,  5.11664816e-01],\n",
              "       [ 6.11237896e+00,  7.45355854e-01],\n",
              "       [ 9.59360742e-01,  4.56078645e+00],\n",
              "       [-7.93236045e+00, -9.79292481e+00],\n",
              "       [ 2.26888807e+00,  8.84381200e+00],\n",
              "       [ 5.55439343e+00, -2.72245273e-01],\n",
              "       [ 5.72793810e-01,  4.08805543e+00],\n",
              "       [-8.57410210e+00, -7.94121148e+00],\n",
              "       [ 6.69786996e-01,  3.59540802e+00],\n",
              "       [-8.33332524e-01,  8.25230950e+00],\n",
              "       [ 1.51047245e-01,  8.18825999e+00],\n",
              "       [-8.48425926e-01,  7.55902814e+00],\n",
              "       [ 3.52160293e-01,  7.97854995e+00],\n",
              "       [-1.63970092e+00,  7.60088799e+00],\n",
              "       [ 2.13141478e+00,  1.13885728e+00],\n",
              "       [ 6.35587885e+00,  7.44021539e-01],\n",
              "       [ 4.38990142e-01,  4.53592883e+00],\n",
              "       [ 6.70478769e-01,  4.04094275e+00],\n",
              "       [-8.34364876e-01,  8.61656775e+00],\n",
              "       [ 2.28112284e+00,  2.38023186e-01],\n",
              "       [ 1.02621362e+01, -2.23263297e+00],\n",
              "       [ 5.52398934e+00, -9.39952056e-03],\n",
              "       [ 3.20903274e+00,  1.78597253e+00],\n",
              "       [-1.73930036e+00,  2.09291149e+00],\n",
              "       [ 3.48515439e+00,  1.46435135e+00],\n",
              "       [ 1.41372442e+00,  4.38117707e+00],\n",
              "       [-8.86129857e+00, -8.38745289e+00],\n",
              "       [-1.43300009e+00,  3.05719088e+00],\n",
              "       [ 7.67522789e-01,  4.39759671e+00],\n",
              "       [ 1.33346885e+00,  8.64423736e+00],\n",
              "       [ 5.64903209e+00,  4.37818398e-01],\n",
              "       [-1.32982560e+00,  8.51759483e+00],\n",
              "       [-1.43366356e+00,  6.82985773e+00],\n",
              "       [-1.84892963e-03,  4.58145668e+00],\n",
              "       [ 9.11261509e+00, -3.00797642e+00],\n",
              "       [-8.14086138e-01,  3.10804783e+00],\n",
              "       [ 2.18023251e+00,  1.48364708e+00],\n",
              "       [ 9.72156821e+00, -3.04453660e+00],\n",
              "       [ 2.15237335e+00,  7.98248147e+00],\n",
              "       [ 1.50757419e+00,  1.56787343e+00],\n",
              "       [ 1.16411070e+00,  3.79132988e+00],\n",
              "       [ 1.87271752e+00,  4.18069237e+00],\n",
              "       [ 3.47138300e-01,  3.45177657e+00],\n",
              "       [-1.96157133e+00,  7.53137020e+00],\n",
              "       [-9.50953644e+00, -8.00702271e+00],\n",
              "       [ 6.71444799e+00,  1.08942956e+00],\n",
              "       [ 2.24592863e-01,  4.77028154e+00],\n",
              "       [ 2.03804766e+00,  8.80953333e+00],\n",
              "       [ 4.88382309e-01,  3.26801777e+00],\n",
              "       [ 1.59331788e+00,  1.22121317e+00],\n",
              "       [ 5.62244171e+00, -3.91986118e-01],\n",
              "       [ 8.85043504e+00, -1.76521319e+00],\n",
              "       [-8.98609430e+00, -7.47870653e+00],\n",
              "       [ 2.62492001e+00,  9.50194405e-01],\n",
              "       [ 9.62036811e+00, -2.12137695e+00],\n",
              "       [ 1.01618041e+00,  4.48527047e+00],\n",
              "       [ 1.79417539e+00,  2.00722190e+00],\n",
              "       [ 6.03784324e+00,  1.79052453e+00],\n",
              "       [-9.35616849e-01,  7.48998723e+00],\n",
              "       [ 7.50066097e-01,  8.46521991e+00],\n",
              "       [ 2.77180174e-01,  4.84428322e+00],\n",
              "       [-8.21620679e+00, -7.72008041e+00],\n",
              "       [ 8.57884205e+00, -2.51854497e+00],\n",
              "       [-9.42285659e+00, -8.61144859e+00],\n",
              "       [ 1.26572308e+00,  6.20712897e-01],\n",
              "       [-8.36821077e+00, -8.02987269e+00],\n",
              "       [ 1.67375987e+00,  1.30352364e+00],\n",
              "       [ 9.77823397e+00, -2.48084477e+00],\n",
              "       [ 1.65991049e+00,  3.56289184e+00],\n",
              "       [-4.74920358e-02,  5.47425256e+00],\n",
              "       [ 5.61564229e-01,  7.33075795e+00],\n",
              "       [ 8.98546172e+00, -1.95895464e+00],\n",
              "       [ 9.05443908e+00, -2.23714731e+00],\n",
              "       [-8.31991883e-01,  7.73971595e+00],\n",
              "       [-1.32798412e+00,  7.65678549e+00],\n",
              "       [ 1.21767506e+00,  3.89290127e+00],\n",
              "       [ 1.92293670e+00,  9.35932939e+00],\n",
              "       [-1.71318643e-01,  2.89252797e+00],\n",
              "       [-1.05510724e+00,  2.63803080e+00],\n",
              "       [ 8.86055264e+00, -3.05961607e+00],\n",
              "       [-1.60604420e+00,  7.80391964e+00],\n",
              "       [ 4.96657994e+00,  1.05807716e+00],\n",
              "       [ 7.43873988e-01,  4.12240568e+00],\n",
              "       [ 1.89804739e+00,  9.33691121e+00],\n",
              "       [ 5.53281074e+00,  2.02537060e+00],\n",
              "       [ 1.89446550e+00,  1.37913750e+00],\n",
              "       [ 4.43598630e-01,  3.11530945e+00],\n",
              "       [ 2.09581356e+00,  8.55084643e+00],\n",
              "       [ 1.53853211e+00,  2.04370263e+00],\n",
              "       [-1.00882797e+00,  6.17190436e+00],\n",
              "       [ 9.15886311e+00, -2.56807933e+00],\n",
              "       [ 1.86922139e+00,  5.44132083e+00],\n",
              "       [ 7.42930052e-01,  8.30196675e+00],\n",
              "       [-1.73627433e+00,  6.95560542e+00],\n",
              "       [ 5.95408088e+00,  5.47536270e-01],\n",
              "       [-8.45119081e+00, -8.98255820e+00],\n",
              "       [ 5.25183802e+00,  7.66788718e-01],\n",
              "       [-2.14744972e+00,  3.32683897e+00],\n",
              "       [ 1.68353782e+00,  4.19583243e+00],\n",
              "       [-2.45138222e+00,  2.95583946e+00],\n",
              "       [-9.14589993e+00, -8.11455212e+00],\n",
              "       [ 9.29643354e+00, -3.32519868e+00],\n",
              "       [ 2.01432256e+00,  1.92566929e+00],\n",
              "       [-2.10047101e+00,  2.71029320e+00],\n",
              "       [ 2.40122201e+00,  7.72684407e-01],\n",
              "       [ 9.00870163e+00, -2.49938292e+00],\n",
              "       [ 5.75643659e+00,  6.34270333e-01],\n",
              "       [-2.28962444e-01,  3.71979903e+00],\n",
              "       [-1.85262090e+00,  3.16751229e+00],\n",
              "       [-7.37252483e+00, -8.28417126e+00],\n",
              "       [ 1.24258802e+00,  4.50399192e+00],\n",
              "       [ 2.26908736e+00,  1.32160756e+00],\n",
              "       [ 5.55318225e+00, -7.42966376e-01],\n",
              "       [ 1.32000621e+00,  1.40428145e+00],\n",
              "       [ 1.87844883e+00,  6.91856131e+00],\n",
              "       [ 6.31483964e+00,  6.24854500e-01],\n",
              "       [ 1.89593761e+00,  5.18540259e+00],\n",
              "       [ 6.53396463e-01,  9.29278961e+00],\n",
              "       [ 1.65066793e+00,  9.16761995e-01],\n",
              "       [-1.31915420e+00,  7.42735309e+00],\n",
              "       [-6.30213287e-01,  1.67589125e+00],\n",
              "       [ 8.68194877e+00, -3.21427063e+00],\n",
              "       [ 9.17865500e+00, -9.77135525e-01],\n",
              "       [ 1.06923853e+00,  4.53068484e+00],\n",
              "       [-1.14282510e+00,  1.94770863e+00],\n",
              "       [-2.18953402e+00,  2.94918131e+00],\n",
              "       [-9.74388719e-01,  3.10911885e+00],\n",
              "       [ 2.62361870e+00,  8.04657604e-01],\n",
              "       [-9.75036130e+00, -8.65334904e+00],\n",
              "       [-8.71100345e+00, -8.90783598e+00],\n",
              "       [ 1.15242083e+00,  8.16317168e+00],\n",
              "       [-1.16308388e+00,  7.64386297e+00],\n",
              "       [-2.00894981e+00,  2.50415239e+00],\n",
              "       [ 7.89338559e-01,  4.33748653e+00],\n",
              "       [-1.66348568e+00,  8.75728625e+00],\n",
              "       [-2.09357177e+00,  2.67185245e+00],\n",
              "       [-2.46666646e+00,  9.07415573e+00],\n",
              "       [ 7.84588593e-01,  8.03606235e+00],\n",
              "       [ 4.77337769e+00,  7.91187471e-01],\n",
              "       [-8.91186461e+00, -8.53979660e+00],\n",
              "       [ 1.75644805e+00,  2.05538289e+00],\n",
              "       [-9.52010708e-01,  7.76579765e+00]])"
            ]
          },
          "metadata": {
            "tags": []
          },
          "execution_count": 5
        }
      ]
    },
    {
      "cell_type": "markdown",
      "metadata": {
        "id": "JG5O59KrgzrB",
        "colab_type": "text"
      },
      "source": [
        "Let's visualize the results by plotting the data colored by these labels. We will also plot the cluster centers as determined by the k-means estimator:"
      ]
    },
    {
      "cell_type": "code",
      "metadata": {
        "id": "5IwJVPjOg0Vo",
        "colab_type": "code",
        "outputId": "3e88420d-b2ea-446a-b045-07dfd9978914",
        "colab": {
          "base_uri": "https://localhost:8080/",
          "height": 268
        }
      },
      "source": [
        "plt.scatter(X[:, 0], X[:, 1], c=y_kmeans, s=50, cmap='viridis')\n",
        "\n",
        "centers = kmeans.cluster_centers_\n",
        "plt.scatter(centers[:, 0], centers[:, 1], c='black', s=200, alpha=0.5);"
      ],
      "execution_count": 6,
      "outputs": [
        {
          "output_type": "display_data",
          "data": {
            "image/png": "[encoded data removed]",
            "text/plain": [
              "<Figure size 432x288 with 1 Axes>"
            ]
          },
          "metadata": {
            "tags": []
          }
        }
      ]
    },
    {
      "cell_type": "markdown",
      "metadata": {
        "id": "_9aYHzcwvuv9",
        "colab_type": "text"
      },
      "source": [
        "Choosing the best value for the number of clusters by using the silhouette\n",
        "score, which is the mean silhouette coefficient over all the instances.\n",
        "\n",
        "To compute the silhouette score, you can use Scikit-Learn’s silhou\n",
        "ette_score() function, giving it all the instances in the dataset, and the labels they were assigned:"
      ]
    },
    {
      "cell_type": "code",
      "metadata": {
        "id": "GG8uFsE-g39p",
        "colab_type": "code",
        "outputId": "883c89a2-8cbe-4660-d261-aa1b946b92ad",
        "colab": {
          "base_uri": "https://localhost:8080/",
          "height": 34
        }
      },
      "source": [
        "from sklearn.metrics import silhouette_score\n",
        "silhouette_score(X, kmeans.labels_)"
      ],
      "execution_count": 7,
      "outputs": [
        {
          "output_type": "execute_result",
          "data": {
            "text/plain": [
              "0.673245529813661"
            ]
          },
          "metadata": {
            "tags": []
          },
          "execution_count": 7
        }
      ]
    },
    {
      "cell_type": "code",
      "metadata": {
        "id": "sxoiz4KNC4K9",
        "colab_type": "code",
        "colab": {}
      },
      "source": [
        "score_list_i=[]\n",
        "score_list_value=[]\n",
        "\n",
        "for i in range(2,20):\n",
        "  kmeans = KMeans(n_clusters=i)\n",
        "  kmeans.fit(X)\n",
        "  y_kmeans = kmeans.predict(X)\n",
        "  score_list_i.append(i)\n",
        "  score_list_value.append(silhouette_score(X, kmeans.labels_))"
      ],
      "execution_count": 0,
      "outputs": []
    },
    {
      "cell_type": "code",
      "metadata": {
        "id": "6Sik_bNgDUtT",
        "colab_type": "code",
        "outputId": "bb6978cb-fa7e-4864-f423-2affe493b9e1",
        "colab": {
          "base_uri": "https://localhost:8080/",
          "height": 34
        }
      },
      "source": [
        "score_list_i"
      ],
      "execution_count": 9,
      "outputs": [
        {
          "output_type": "execute_result",
          "data": {
            "text/plain": [
              "[2, 3, 4, 5, 6, 7, 8, 9, 10, 11, 12, 13, 14, 15, 16, 17, 18, 19]"
            ]
          },
          "metadata": {
            "tags": []
          },
          "execution_count": 9
        }
      ]
    },
    {
      "cell_type": "code",
      "metadata": {
        "id": "U3HFdhEbEMGi",
        "colab_type": "code",
        "outputId": "665ac6f6-208e-4ed4-bc30-5efeeeacf18f",
        "colab": {
          "base_uri": "https://localhost:8080/",
          "height": 323
        }
      },
      "source": [
        "score_list_value"
      ],
      "execution_count": 10,
      "outputs": [
        {
          "output_type": "execute_result",
          "data": {
            "text/plain": [
              "[0.6658711629144707,\n",
              " 0.6118837035190878,\n",
              " 0.6166260760288776,\n",
              " 0.6118042657150456,\n",
              " 0.644053751810715,\n",
              " 0.673245529813661,\n",
              " 0.6823016600527666,\n",
              " 0.6616061633346353,\n",
              " 0.6079517064517511,\n",
              " 0.5724954661976579,\n",
              " 0.5362340573293225,\n",
              " 0.4471547558444585,\n",
              " 0.4459527282185089,\n",
              " 0.38688888162581275,\n",
              " 0.37432664272382626,\n",
              " 0.43258435054686295,\n",
              " 0.35843436643438586,\n",
              " 0.4034969625313776]"
            ]
          },
          "metadata": {
            "tags": []
          },
          "execution_count": 10
        }
      ]
    },
    {
      "cell_type": "code",
      "metadata": {
        "id": "JY73rjq2DY6A",
        "colab_type": "code",
        "outputId": "95f8317c-4386-45e1-a15e-c4d2cb5156a5",
        "colab": {
          "base_uri": "https://localhost:8080/",
          "height": 302
        }
      },
      "source": [
        "plt.plot(score_list_i,score_list_value)\n",
        "plt.xlabel(\"n_clusters\")\n",
        "plt.ylabel(\"silhouette score\")"
      ],
      "execution_count": 11,
      "outputs": [
        {
          "output_type": "execute_result",
          "data": {
            "text/plain": [
              "Text(0, 0.5, 'silhouette score')"
            ]
          },
          "metadata": {
            "tags": []
          },
          "execution_count": 11
        },
        {
          "output_type": "display_data",
          "data": {
            "image/png": "[encoded data removed]",
            "text/plain": [
              "<Figure size 432x288 with 1 Axes>"
            ]
          },
          "metadata": {
            "tags": []
          }
        }
      ]
    },
    {
      "cell_type": "markdown",
      "metadata": {
        "id": "9zjo3Q9WhzKy",
        "colab_type": "text"
      },
      "source": [
        "##Your turn, make sure you follow instructions from\n",
        "https://canvas.iastate.edu/courses/64450/assignments/931599/\n",
        "\n",
        "use this dataset\n",
        "https://raw.githubusercontent.com/asukul/DS301-f19/master/datasets/Brain-BodySize/brain-bodysize.csv"
      ]
    },
    {
      "cell_type": "markdown",
      "metadata": {
        "id": "MrVOGdcXhzTn",
        "colab_type": "text"
      },
      "source": [
        ""
      ]
    },
    {
      "cell_type": "code",
      "metadata": {
        "id": "RILNMYuJiDke",
        "colab_type": "code",
        "colab": {}
      },
      "source": [
        "import pandas as pd\n",
        "%matplotlib inline\n",
        "import matplotlib.pyplot as plt\n",
        "import seaborn as sns; sns.set()  # for plot styling\n",
        "import numpy as np"
      ],
      "execution_count": 0,
      "outputs": []
    },
    {
      "cell_type": "code",
      "metadata": {
        "id": "JLQTs1bsiNm2",
        "colab_type": "code",
        "colab": {}
      },
      "source": [
        "df = pd.read_csv(\"https://raw.githubusercontent.com/asukul/DS301-f19/master/datasets/Brain-BodySize/brain-bodysize.csv\")"
      ],
      "execution_count": 0,
      "outputs": []
    },
    {
      "cell_type": "code",
      "metadata": {
        "id": "S6jQosDRiRyV",
        "colab_type": "code",
        "outputId": "200938d7-cf5c-4bac-f883-579a502640f3",
        "colab": {
          "base_uri": "https://localhost:8080/",
          "height": 1000
        }
      },
      "source": [
        "df"
      ],
      "execution_count": 14,
      "outputs": [
        {
          "output_type": "execute_result",
          "data": {
            "text/html": [
              "<div>\n",
              "<style scoped>\n",
              "    .dataframe tbody tr th:only-of-type {\n",
              "        vertical-align: middle;\n",
              "    }\n",
              "\n",
              "    .dataframe tbody tr th {\n",
              "        vertical-align: top;\n",
              "    }\n",
              "\n",
              "    .dataframe thead th {\n",
              "        text-align: right;\n",
              "    }\n",
              "</style>\n",
              "<table border=\"1\" class=\"dataframe\">\n",
              "  <thead>\n",
              "    <tr style=\"text-align: right;\">\n",
              "      <th></th>\n",
              "      <th>Brain</th>\n",
              "      <th>Body</th>\n",
              "    </tr>\n",
              "  </thead>\n",
              "  <tbody>\n",
              "    <tr>\n",
              "      <th>0</th>\n",
              "      <td>3.385</td>\n",
              "      <td>44.50</td>\n",
              "    </tr>\n",
              "    <tr>\n",
              "      <th>1</th>\n",
              "      <td>0.480</td>\n",
              "      <td>15.50</td>\n",
              "    </tr>\n",
              "    <tr>\n",
              "      <th>2</th>\n",
              "      <td>1.350</td>\n",
              "      <td>8.10</td>\n",
              "    </tr>\n",
              "    <tr>\n",
              "      <th>3</th>\n",
              "      <td>465.000</td>\n",
              "      <td>423.00</td>\n",
              "    </tr>\n",
              "    <tr>\n",
              "      <th>4</th>\n",
              "      <td>36.330</td>\n",
              "      <td>119.50</td>\n",
              "    </tr>\n",
              "    <tr>\n",
              "      <th>5</th>\n",
              "      <td>27.660</td>\n",
              "      <td>115.00</td>\n",
              "    </tr>\n",
              "    <tr>\n",
              "      <th>6</th>\n",
              "      <td>14.830</td>\n",
              "      <td>98.20</td>\n",
              "    </tr>\n",
              "    <tr>\n",
              "      <th>7</th>\n",
              "      <td>1.040</td>\n",
              "      <td>5.50</td>\n",
              "    </tr>\n",
              "    <tr>\n",
              "      <th>8</th>\n",
              "      <td>4.190</td>\n",
              "      <td>58.00</td>\n",
              "    </tr>\n",
              "    <tr>\n",
              "      <th>9</th>\n",
              "      <td>0.425</td>\n",
              "      <td>6.40</td>\n",
              "    </tr>\n",
              "    <tr>\n",
              "      <th>10</th>\n",
              "      <td>0.101</td>\n",
              "      <td>4.00</td>\n",
              "    </tr>\n",
              "    <tr>\n",
              "      <th>11</th>\n",
              "      <td>0.920</td>\n",
              "      <td>5.70</td>\n",
              "    </tr>\n",
              "    <tr>\n",
              "      <th>12</th>\n",
              "      <td>1.000</td>\n",
              "      <td>6.60</td>\n",
              "    </tr>\n",
              "    <tr>\n",
              "      <th>13</th>\n",
              "      <td>0.005</td>\n",
              "      <td>0.14</td>\n",
              "    </tr>\n",
              "    <tr>\n",
              "      <th>14</th>\n",
              "      <td>0.060</td>\n",
              "      <td>1.00</td>\n",
              "    </tr>\n",
              "    <tr>\n",
              "      <th>15</th>\n",
              "      <td>3.500</td>\n",
              "      <td>10.80</td>\n",
              "    </tr>\n",
              "    <tr>\n",
              "      <th>16</th>\n",
              "      <td>2.000</td>\n",
              "      <td>12.30</td>\n",
              "    </tr>\n",
              "    <tr>\n",
              "      <th>17</th>\n",
              "      <td>1.700</td>\n",
              "      <td>6.30</td>\n",
              "    </tr>\n",
              "    <tr>\n",
              "      <th>18</th>\n",
              "      <td>0.023</td>\n",
              "      <td>0.30</td>\n",
              "    </tr>\n",
              "    <tr>\n",
              "      <th>19</th>\n",
              "      <td>187.100</td>\n",
              "      <td>419.00</td>\n",
              "    </tr>\n",
              "    <tr>\n",
              "      <th>20</th>\n",
              "      <td>521.000</td>\n",
              "      <td>655.00</td>\n",
              "    </tr>\n",
              "    <tr>\n",
              "      <th>21</th>\n",
              "      <td>0.785</td>\n",
              "      <td>3.50</td>\n",
              "    </tr>\n",
              "    <tr>\n",
              "      <th>22</th>\n",
              "      <td>10.000</td>\n",
              "      <td>115.00</td>\n",
              "    </tr>\n",
              "    <tr>\n",
              "      <th>23</th>\n",
              "      <td>3.300</td>\n",
              "      <td>25.60</td>\n",
              "    </tr>\n",
              "    <tr>\n",
              "      <th>24</th>\n",
              "      <td>0.200</td>\n",
              "      <td>5.00</td>\n",
              "    </tr>\n",
              "    <tr>\n",
              "      <th>25</th>\n",
              "      <td>1.410</td>\n",
              "      <td>17.50</td>\n",
              "    </tr>\n",
              "    <tr>\n",
              "      <th>26</th>\n",
              "      <td>529.000</td>\n",
              "      <td>680.00</td>\n",
              "    </tr>\n",
              "    <tr>\n",
              "      <th>27</th>\n",
              "      <td>207.000</td>\n",
              "      <td>406.00</td>\n",
              "    </tr>\n",
              "    <tr>\n",
              "      <th>28</th>\n",
              "      <td>85.000</td>\n",
              "      <td>325.00</td>\n",
              "    </tr>\n",
              "    <tr>\n",
              "      <th>29</th>\n",
              "      <td>0.750</td>\n",
              "      <td>12.30</td>\n",
              "    </tr>\n",
              "    <tr>\n",
              "      <th>30</th>\n",
              "      <td>62.000</td>\n",
              "      <td>1320.00</td>\n",
              "    </tr>\n",
              "    <tr>\n",
              "      <th>31</th>\n",
              "      <td>3.500</td>\n",
              "      <td>3.90</td>\n",
              "    </tr>\n",
              "    <tr>\n",
              "      <th>32</th>\n",
              "      <td>6.800</td>\n",
              "      <td>179.00</td>\n",
              "    </tr>\n",
              "    <tr>\n",
              "      <th>33</th>\n",
              "      <td>35.000</td>\n",
              "      <td>56.00</td>\n",
              "    </tr>\n",
              "    <tr>\n",
              "      <th>34</th>\n",
              "      <td>4.050</td>\n",
              "      <td>17.00</td>\n",
              "    </tr>\n",
              "    <tr>\n",
              "      <th>35</th>\n",
              "      <td>0.120</td>\n",
              "      <td>1.00</td>\n",
              "    </tr>\n",
              "    <tr>\n",
              "      <th>36</th>\n",
              "      <td>0.023</td>\n",
              "      <td>0.40</td>\n",
              "    </tr>\n",
              "    <tr>\n",
              "      <th>37</th>\n",
              "      <td>0.010</td>\n",
              "      <td>0.25</td>\n",
              "    </tr>\n",
              "    <tr>\n",
              "      <th>38</th>\n",
              "      <td>1.400</td>\n",
              "      <td>12.50</td>\n",
              "    </tr>\n",
              "    <tr>\n",
              "      <th>39</th>\n",
              "      <td>250.000</td>\n",
              "      <td>490.00</td>\n",
              "    </tr>\n",
              "    <tr>\n",
              "      <th>40</th>\n",
              "      <td>2.500</td>\n",
              "      <td>12.10</td>\n",
              "    </tr>\n",
              "    <tr>\n",
              "      <th>41</th>\n",
              "      <td>55.500</td>\n",
              "      <td>175.00</td>\n",
              "    </tr>\n",
              "    <tr>\n",
              "      <th>42</th>\n",
              "      <td>100.000</td>\n",
              "      <td>157.00</td>\n",
              "    </tr>\n",
              "    <tr>\n",
              "      <th>43</th>\n",
              "      <td>52.160</td>\n",
              "      <td>440.00</td>\n",
              "    </tr>\n",
              "    <tr>\n",
              "      <th>44</th>\n",
              "      <td>10.550</td>\n",
              "      <td>179.50</td>\n",
              "    </tr>\n",
              "    <tr>\n",
              "      <th>45</th>\n",
              "      <td>0.550</td>\n",
              "      <td>2.40</td>\n",
              "    </tr>\n",
              "    <tr>\n",
              "      <th>46</th>\n",
              "      <td>60.000</td>\n",
              "      <td>81.00</td>\n",
              "    </tr>\n",
              "    <tr>\n",
              "      <th>47</th>\n",
              "      <td>3.600</td>\n",
              "      <td>21.00</td>\n",
              "    </tr>\n",
              "    <tr>\n",
              "      <th>48</th>\n",
              "      <td>4.288</td>\n",
              "      <td>39.20</td>\n",
              "    </tr>\n",
              "    <tr>\n",
              "      <th>49</th>\n",
              "      <td>0.280</td>\n",
              "      <td>1.90</td>\n",
              "    </tr>\n",
              "    <tr>\n",
              "      <th>50</th>\n",
              "      <td>0.075</td>\n",
              "      <td>1.20</td>\n",
              "    </tr>\n",
              "    <tr>\n",
              "      <th>51</th>\n",
              "      <td>0.122</td>\n",
              "      <td>3.00</td>\n",
              "    </tr>\n",
              "    <tr>\n",
              "      <th>52</th>\n",
              "      <td>0.048</td>\n",
              "      <td>0.33</td>\n",
              "    </tr>\n",
              "    <tr>\n",
              "      <th>53</th>\n",
              "      <td>192.000</td>\n",
              "      <td>180.00</td>\n",
              "    </tr>\n",
              "    <tr>\n",
              "      <th>54</th>\n",
              "      <td>3.000</td>\n",
              "      <td>25.00</td>\n",
              "    </tr>\n",
              "    <tr>\n",
              "      <th>55</th>\n",
              "      <td>160.000</td>\n",
              "      <td>169.00</td>\n",
              "    </tr>\n",
              "    <tr>\n",
              "      <th>56</th>\n",
              "      <td>0.900</td>\n",
              "      <td>2.60</td>\n",
              "    </tr>\n",
              "    <tr>\n",
              "      <th>57</th>\n",
              "      <td>1.620</td>\n",
              "      <td>11.40</td>\n",
              "    </tr>\n",
              "    <tr>\n",
              "      <th>58</th>\n",
              "      <td>0.104</td>\n",
              "      <td>2.50</td>\n",
              "    </tr>\n",
              "    <tr>\n",
              "      <th>59</th>\n",
              "      <td>4.235</td>\n",
              "      <td>50.40</td>\n",
              "    </tr>\n",
              "  </tbody>\n",
              "</table>\n",
              "</div>"
            ],
            "text/plain": [
              "      Brain     Body\n",
              "0     3.385    44.50\n",
              "1     0.480    15.50\n",
              "2     1.350     8.10\n",
              "3   465.000   423.00\n",
              "4    36.330   119.50\n",
              "5    27.660   115.00\n",
              "6    14.830    98.20\n",
              "7     1.040     5.50\n",
              "8     4.190    58.00\n",
              "9     0.425     6.40\n",
              "10    0.101     4.00\n",
              "11    0.920     5.70\n",
              "12    1.000     6.60\n",
              "13    0.005     0.14\n",
              "14    0.060     1.00\n",
              "15    3.500    10.80\n",
              "16    2.000    12.30\n",
              "17    1.700     6.30\n",
              "18    0.023     0.30\n",
              "19  187.100   419.00\n",
              "20  521.000   655.00\n",
              "21    0.785     3.50\n",
              "22   10.000   115.00\n",
              "23    3.300    25.60\n",
              "24    0.200     5.00\n",
              "25    1.410    17.50\n",
              "26  529.000   680.00\n",
              "27  207.000   406.00\n",
              "28   85.000   325.00\n",
              "29    0.750    12.30\n",
              "30   62.000  1320.00\n",
              "31    3.500     3.90\n",
              "32    6.800   179.00\n",
              "33   35.000    56.00\n",
              "34    4.050    17.00\n",
              "35    0.120     1.00\n",
              "36    0.023     0.40\n",
              "37    0.010     0.25\n",
              "38    1.400    12.50\n",
              "39  250.000   490.00\n",
              "40    2.500    12.10\n",
              "41   55.500   175.00\n",
              "42  100.000   157.00\n",
              "43   52.160   440.00\n",
              "44   10.550   179.50\n",
              "45    0.550     2.40\n",
              "46   60.000    81.00\n",
              "47    3.600    21.00\n",
              "48    4.288    39.20\n",
              "49    0.280     1.90\n",
              "50    0.075     1.20\n",
              "51    0.122     3.00\n",
              "52    0.048     0.33\n",
              "53  192.000   180.00\n",
              "54    3.000    25.00\n",
              "55  160.000   169.00\n",
              "56    0.900     2.60\n",
              "57    1.620    11.40\n",
              "58    0.104     2.50\n",
              "59    4.235    50.40"
            ]
          },
          "metadata": {
            "tags": []
          },
          "execution_count": 14
        }
      ]
    },
    {
      "cell_type": "code",
      "metadata": {
        "id": "fd_3tc9Jik7U",
        "colab_type": "code",
        "colab": {}
      },
      "source": [
        ""
      ],
      "execution_count": 0,
      "outputs": []
    },
    {
      "cell_type": "code",
      "metadata": {
        "id": "V-JlZGkWweiK",
        "colab_type": "code",
        "outputId": "d76dbf36-5cb4-43d9-86fa-682f31b42bb8",
        "colab": {
          "base_uri": "https://localhost:8080/",
          "height": 285
        }
      },
      "source": [
        ""
      ],
      "execution_count": 17,
      "outputs": [
        {
          "output_type": "execute_result",
          "data": {
            "text/plain": [
              "<matplotlib.collections.PathCollection at 0x7f56923e6ef0>"
            ]
          },
          "metadata": {
            "tags": []
          },
          "execution_count": 17
        },
        {
          "output_type": "display_data",
          "data": {
            "image/png": "[encoded data removed]",
            "text/plain": [
              "<Figure size 432x288 with 1 Axes>"
            ]
          },
          "metadata": {
            "tags": []
          }
        }
      ]
    },
    {
      "cell_type": "code",
      "metadata": {
        "id": "eN_AhlOqwLH1",
        "colab_type": "code",
        "outputId": "ace62e7a-8db8-480d-f681-053106c6968a",
        "colab": {
          "base_uri": "https://localhost:8080/",
          "height": 34
        }
      },
      "source": [
        ""
      ],
      "execution_count": 18,
      "outputs": [
        {
          "output_type": "execute_result",
          "data": {
            "text/plain": [
              "0.7235477822647723"
            ]
          },
          "metadata": {
            "tags": []
          },
          "execution_count": 18
        }
      ]
    },
    {
      "cell_type": "markdown",
      "metadata": {
        "id": "gY-Yv2Yj1dXV",
        "colab_type": "text"
      },
      "source": [
        "Let's try UCI \n",
        "Online Retail II Data Set\n",
        "https://archive.ics.uci.edu/ml/datasets/Online+Retail+II\n",
        "\n",
        " https://archive.ics.uci.edu/ml/machine-learning-databases/00502/online_retail_II.xlsx\n"
      ]
    },
    {
      "cell_type": "code",
      "metadata": {
        "id": "LVEhL32i1nrU",
        "colab_type": "code",
        "colab": {}
      },
      "source": [
        ""
      ],
      "execution_count": 0,
      "outputs": []
    },
    {
      "cell_type": "code",
      "metadata": {
        "id": "NEAUnNU21ryT",
        "colab_type": "code",
        "colab": {}
      },
      "source": [
        "df = pd.read_csv(\"https://raw.githubusercontent.com/asukul/DS301-f19/master/datasets/online_retail_II/online_retail_II-small3.csv\")"
      ],
      "execution_count": 0,
      "outputs": []
    },
    {
      "cell_type": "code",
      "metadata": {
        "id": "7s0lPvcb1y0r",
        "colab_type": "code",
        "outputId": "6c401571-a772-4638-fd4d-696b40553baa",
        "colab": {
          "base_uri": "https://localhost:8080/",
          "height": 419
        }
      },
      "source": [
        "df"
      ],
      "execution_count": 21,
      "outputs": [
        {
          "output_type": "execute_result",
          "data": {
            "text/html": [
              "<div>\n",
              "<style scoped>\n",
              "    .dataframe tbody tr th:only-of-type {\n",
              "        vertical-align: middle;\n",
              "    }\n",
              "\n",
              "    .dataframe tbody tr th {\n",
              "        vertical-align: top;\n",
              "    }\n",
              "\n",
              "    .dataframe thead th {\n",
              "        text-align: right;\n",
              "    }\n",
              "</style>\n",
              "<table border=\"1\" class=\"dataframe\">\n",
              "  <thead>\n",
              "    <tr style=\"text-align: right;\">\n",
              "      <th></th>\n",
              "      <th>Quantity</th>\n",
              "      <th>Price</th>\n",
              "    </tr>\n",
              "  </thead>\n",
              "  <tbody>\n",
              "    <tr>\n",
              "      <th>0</th>\n",
              "      <td>1</td>\n",
              "      <td>339.020</td>\n",
              "    </tr>\n",
              "    <tr>\n",
              "      <th>1</th>\n",
              "      <td>1</td>\n",
              "      <td>337.230</td>\n",
              "    </tr>\n",
              "    <tr>\n",
              "      <th>2</th>\n",
              "      <td>124</td>\n",
              "      <td>336.520</td>\n",
              "    </tr>\n",
              "    <tr>\n",
              "      <th>3</th>\n",
              "      <td>167</td>\n",
              "      <td>334.710</td>\n",
              "    </tr>\n",
              "    <tr>\n",
              "      <th>4</th>\n",
              "      <td>210</td>\n",
              "      <td>334.160</td>\n",
              "    </tr>\n",
              "    <tr>\n",
              "      <th>...</th>\n",
              "      <td>...</td>\n",
              "      <td>...</td>\n",
              "    </tr>\n",
              "    <tr>\n",
              "      <th>6363</th>\n",
              "      <td>900</td>\n",
              "      <td>0.040</td>\n",
              "    </tr>\n",
              "    <tr>\n",
              "      <th>6364</th>\n",
              "      <td>500</td>\n",
              "      <td>0.040</td>\n",
              "    </tr>\n",
              "    <tr>\n",
              "      <th>6365</th>\n",
              "      <td>200</td>\n",
              "      <td>0.040</td>\n",
              "    </tr>\n",
              "    <tr>\n",
              "      <th>6366</th>\n",
              "      <td>100</td>\n",
              "      <td>0.040</td>\n",
              "    </tr>\n",
              "    <tr>\n",
              "      <th>6367</th>\n",
              "      <td>1</td>\n",
              "      <td>0.001</td>\n",
              "    </tr>\n",
              "  </tbody>\n",
              "</table>\n",
              "<p>6368 rows × 2 columns</p>\n",
              "</div>"
            ],
            "text/plain": [
              "      Quantity    Price\n",
              "0            1  339.020\n",
              "1            1  337.230\n",
              "2          124  336.520\n",
              "3          167  334.710\n",
              "4          210  334.160\n",
              "...        ...      ...\n",
              "6363       900    0.040\n",
              "6364       500    0.040\n",
              "6365       200    0.040\n",
              "6366       100    0.040\n",
              "6367         1    0.001\n",
              "\n",
              "[6368 rows x 2 columns]"
            ]
          },
          "metadata": {
            "tags": []
          },
          "execution_count": 21
        }
      ]
    },
    {
      "cell_type": "code",
      "metadata": {
        "colab_type": "code",
        "outputId": "e499b86d-0919-4565-d1f7-5d7c4c575314",
        "id": "MinhUhxP3vVo",
        "colab": {
          "base_uri": "https://localhost:8080/",
          "height": 268
        }
      },
      "source": [
        ""
      ],
      "execution_count": 22,
      "outputs": [
        {
          "output_type": "display_data",
          "data": {
            "image/png": "[encoded data removed]",
            "text/plain": [
              "<Figure size 432x288 with 1 Axes>"
            ]
          },
          "metadata": {
            "tags": []
          }
        }
      ]
    },
    {
      "cell_type": "code",
      "metadata": {
        "id": "xjy1-E29F4BL",
        "colab_type": "code",
        "colab": {}
      },
      "source": [
        ""
      ],
      "execution_count": 0,
      "outputs": []
    }
  ]
}